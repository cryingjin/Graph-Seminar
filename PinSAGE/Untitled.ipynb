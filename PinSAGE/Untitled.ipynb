{
 "cells": [
  {
   "cell_type": "code",
   "execution_count": 1,
   "metadata": {
    "Collapsed": "false"
   },
   "outputs": [
    {
     "name": "stderr",
     "output_type": "stream",
     "text": [
      "Using backend: pytorch\n"
     ]
    }
   ],
   "source": [
    "import os\n",
    "import re\n",
    "import argparse\n",
    "import pickle\n",
    "\n",
    "import json \n",
    "import gzip\n",
    "\n",
    "import pandas as pd\n",
    "import numpy as np\n",
    "import scipy.sparse as ssp\n",
    "\n",
    "import dgl\n",
    "import networkx as nx\n",
    "\n",
    "import torch\n",
    "import torchtext\n",
    "from builder import PandasGraphBuilder\n",
    "\n",
    "from data_utils import *"
   ]
  },
  {
   "cell_type": "code",
   "execution_count": 85,
   "metadata": {},
   "outputs": [],
   "source": [
    "from tqdm import tqdm"
   ]
  },
  {
   "cell_type": "code",
   "execution_count": 2,
   "metadata": {},
   "outputs": [],
   "source": [
    "def parse(path):\n",
    "    g = gzip.open(path, 'r')\n",
    "    for l in g:\n",
    "        yield json.loads(l)\n",
    "        \n",
    "def getDF(path):\n",
    "    i = 0\n",
    "    df = {}\n",
    "    for d in parse(path):\n",
    "        df[i] = d\n",
    "        i += 1\n",
    "    return pd.DataFrame.from_dict(df, orient='index')"
   ]
  },
  {
   "cell_type": "code",
   "execution_count": 4,
   "metadata": {},
   "outputs": [],
   "source": [
    "df1 = getDF('AMAZON_FASHION.json.gz')\n",
    "df2 = getDF('meta_AMAZON_FASHION.json.gz')"
   ]
  },
  {
   "cell_type": "code",
   "execution_count": 5,
   "metadata": {},
   "outputs": [
    {
     "name": "stdout",
     "output_type": "stream",
     "text": [
      "(883636, 12)\n"
     ]
    },
    {
     "data": {
      "text/html": [
       "<div>\n",
       "<style scoped>\n",
       "    .dataframe tbody tr th:only-of-type {\n",
       "        vertical-align: middle;\n",
       "    }\n",
       "\n",
       "    .dataframe tbody tr th {\n",
       "        vertical-align: top;\n",
       "    }\n",
       "\n",
       "    .dataframe thead th {\n",
       "        text-align: right;\n",
       "    }\n",
       "</style>\n",
       "<table border=\"1\" class=\"dataframe\">\n",
       "  <thead>\n",
       "    <tr style=\"text-align: right;\">\n",
       "      <th></th>\n",
       "      <th>overall</th>\n",
       "      <th>verified</th>\n",
       "      <th>reviewTime</th>\n",
       "      <th>reviewerID</th>\n",
       "      <th>asin</th>\n",
       "      <th>reviewerName</th>\n",
       "      <th>reviewText</th>\n",
       "      <th>summary</th>\n",
       "      <th>unixReviewTime</th>\n",
       "      <th>vote</th>\n",
       "      <th>style</th>\n",
       "      <th>image</th>\n",
       "    </tr>\n",
       "  </thead>\n",
       "  <tbody>\n",
       "    <tr>\n",
       "      <th>0</th>\n",
       "      <td>5.0</td>\n",
       "      <td>True</td>\n",
       "      <td>10 20, 2014</td>\n",
       "      <td>A1D4G1SNUZWQOT</td>\n",
       "      <td>7106116521</td>\n",
       "      <td>Tracy</td>\n",
       "      <td>Exactly what I needed.</td>\n",
       "      <td>perfect replacements!!</td>\n",
       "      <td>1413763200</td>\n",
       "      <td>NaN</td>\n",
       "      <td>NaN</td>\n",
       "      <td>NaN</td>\n",
       "    </tr>\n",
       "    <tr>\n",
       "      <th>1</th>\n",
       "      <td>2.0</td>\n",
       "      <td>True</td>\n",
       "      <td>09 28, 2014</td>\n",
       "      <td>A3DDWDH9PX2YX2</td>\n",
       "      <td>7106116521</td>\n",
       "      <td>Sonja Lau</td>\n",
       "      <td>I agree with the other review, the opening is ...</td>\n",
       "      <td>I agree with the other review, the opening is ...</td>\n",
       "      <td>1411862400</td>\n",
       "      <td>3</td>\n",
       "      <td>NaN</td>\n",
       "      <td>NaN</td>\n",
       "    </tr>\n",
       "    <tr>\n",
       "      <th>2</th>\n",
       "      <td>4.0</td>\n",
       "      <td>False</td>\n",
       "      <td>08 25, 2014</td>\n",
       "      <td>A2MWC41EW7XL15</td>\n",
       "      <td>7106116521</td>\n",
       "      <td>Kathleen</td>\n",
       "      <td>Love these... I am going to order another pack...</td>\n",
       "      <td>My New 'Friends' !!</td>\n",
       "      <td>1408924800</td>\n",
       "      <td>NaN</td>\n",
       "      <td>NaN</td>\n",
       "      <td>NaN</td>\n",
       "    </tr>\n",
       "    <tr>\n",
       "      <th>3</th>\n",
       "      <td>2.0</td>\n",
       "      <td>True</td>\n",
       "      <td>08 24, 2014</td>\n",
       "      <td>A2UH2QQ275NV45</td>\n",
       "      <td>7106116521</td>\n",
       "      <td>Jodi Stoner</td>\n",
       "      <td>too tiny an opening</td>\n",
       "      <td>Two Stars</td>\n",
       "      <td>1408838400</td>\n",
       "      <td>NaN</td>\n",
       "      <td>NaN</td>\n",
       "      <td>NaN</td>\n",
       "    </tr>\n",
       "    <tr>\n",
       "      <th>4</th>\n",
       "      <td>3.0</td>\n",
       "      <td>False</td>\n",
       "      <td>07 27, 2014</td>\n",
       "      <td>A89F3LQADZBS5</td>\n",
       "      <td>7106116521</td>\n",
       "      <td>Alexander D.</td>\n",
       "      <td>Okay</td>\n",
       "      <td>Three Stars</td>\n",
       "      <td>1406419200</td>\n",
       "      <td>NaN</td>\n",
       "      <td>NaN</td>\n",
       "      <td>NaN</td>\n",
       "    </tr>\n",
       "  </tbody>\n",
       "</table>\n",
       "</div>"
      ],
      "text/plain": [
       "   overall  verified   reviewTime      reviewerID        asin  reviewerName  \\\n",
       "0      5.0      True  10 20, 2014  A1D4G1SNUZWQOT  7106116521         Tracy   \n",
       "1      2.0      True  09 28, 2014  A3DDWDH9PX2YX2  7106116521     Sonja Lau   \n",
       "2      4.0     False  08 25, 2014  A2MWC41EW7XL15  7106116521      Kathleen   \n",
       "3      2.0      True  08 24, 2014  A2UH2QQ275NV45  7106116521   Jodi Stoner   \n",
       "4      3.0     False  07 27, 2014   A89F3LQADZBS5  7106116521  Alexander D.   \n",
       "\n",
       "                                          reviewText  \\\n",
       "0                             Exactly what I needed.   \n",
       "1  I agree with the other review, the opening is ...   \n",
       "2  Love these... I am going to order another pack...   \n",
       "3                                too tiny an opening   \n",
       "4                                               Okay   \n",
       "\n",
       "                                             summary  unixReviewTime vote  \\\n",
       "0                             perfect replacements!!      1413763200  NaN   \n",
       "1  I agree with the other review, the opening is ...      1411862400    3   \n",
       "2                                My New 'Friends' !!      1408924800  NaN   \n",
       "3                                          Two Stars      1408838400  NaN   \n",
       "4                                        Three Stars      1406419200  NaN   \n",
       "\n",
       "  style image  \n",
       "0   NaN   NaN  \n",
       "1   NaN   NaN  \n",
       "2   NaN   NaN  \n",
       "3   NaN   NaN  \n",
       "4   NaN   NaN  "
      ]
     },
     "execution_count": 5,
     "metadata": {},
     "output_type": "execute_result"
    }
   ],
   "source": [
    "print(df1.shape)\n",
    "df1.head()"
   ]
  },
  {
   "cell_type": "code",
   "execution_count": 70,
   "metadata": {},
   "outputs": [
    {
     "data": {
      "text/plain": [
       "749233"
      ]
     },
     "execution_count": 70,
     "metadata": {},
     "output_type": "execute_result"
    }
   ],
   "source": [
    "df1.reviewerID.nunique()"
   ]
  },
  {
   "cell_type": "code",
   "execution_count": 71,
   "metadata": {},
   "outputs": [],
   "source": [
    "from sklearn.preprocessing import LabelEncoder"
   ]
  },
  {
   "cell_type": "code",
   "execution_count": 79,
   "metadata": {},
   "outputs": [],
   "source": [
    "le = LabelEncoder()\n",
    "df1[\"reviewerID\"] = le.fit_transform(df1[\"reviewerID\"])"
   ]
  },
  {
   "cell_type": "code",
   "execution_count": 80,
   "metadata": {},
   "outputs": [
    {
     "data": {
      "text/html": [
       "<div>\n",
       "<style scoped>\n",
       "    .dataframe tbody tr th:only-of-type {\n",
       "        vertical-align: middle;\n",
       "    }\n",
       "\n",
       "    .dataframe tbody tr th {\n",
       "        vertical-align: top;\n",
       "    }\n",
       "\n",
       "    .dataframe thead th {\n",
       "        text-align: right;\n",
       "    }\n",
       "</style>\n",
       "<table border=\"1\" class=\"dataframe\">\n",
       "  <thead>\n",
       "    <tr style=\"text-align: right;\">\n",
       "      <th></th>\n",
       "      <th>overall</th>\n",
       "      <th>verified</th>\n",
       "      <th>reviewTime</th>\n",
       "      <th>reviewerID</th>\n",
       "      <th>asin</th>\n",
       "      <th>reviewerName</th>\n",
       "      <th>reviewText</th>\n",
       "      <th>summary</th>\n",
       "      <th>unixReviewTime</th>\n",
       "      <th>vote</th>\n",
       "      <th>style</th>\n",
       "      <th>image</th>\n",
       "    </tr>\n",
       "  </thead>\n",
       "  <tbody>\n",
       "    <tr>\n",
       "      <th>0</th>\n",
       "      <td>5.0</td>\n",
       "      <td>True</td>\n",
       "      <td>10 20, 2014</td>\n",
       "      <td>72476</td>\n",
       "      <td>7106116521</td>\n",
       "      <td>Tracy</td>\n",
       "      <td>Exactly what I needed.</td>\n",
       "      <td>perfect replacements!!</td>\n",
       "      <td>1413763200</td>\n",
       "      <td>NaN</td>\n",
       "      <td>NaN</td>\n",
       "      <td>NaN</td>\n",
       "    </tr>\n",
       "    <tr>\n",
       "      <th>1</th>\n",
       "      <td>2.0</td>\n",
       "      <td>True</td>\n",
       "      <td>09 28, 2014</td>\n",
       "      <td>469548</td>\n",
       "      <td>7106116521</td>\n",
       "      <td>Sonja Lau</td>\n",
       "      <td>I agree with the other review, the opening is ...</td>\n",
       "      <td>I agree with the other review, the opening is ...</td>\n",
       "      <td>1411862400</td>\n",
       "      <td>3</td>\n",
       "      <td>NaN</td>\n",
       "      <td>NaN</td>\n",
       "    </tr>\n",
       "    <tr>\n",
       "      <th>2</th>\n",
       "      <td>4.0</td>\n",
       "      <td>False</td>\n",
       "      <td>08 25, 2014</td>\n",
       "      <td>323626</td>\n",
       "      <td>7106116521</td>\n",
       "      <td>Kathleen</td>\n",
       "      <td>Love these... I am going to order another pack...</td>\n",
       "      <td>My New 'Friends' !!</td>\n",
       "      <td>1408924800</td>\n",
       "      <td>NaN</td>\n",
       "      <td>NaN</td>\n",
       "      <td>NaN</td>\n",
       "    </tr>\n",
       "    <tr>\n",
       "      <th>3</th>\n",
       "      <td>2.0</td>\n",
       "      <td>True</td>\n",
       "      <td>08 24, 2014</td>\n",
       "      <td>365298</td>\n",
       "      <td>7106116521</td>\n",
       "      <td>Jodi Stoner</td>\n",
       "      <td>too tiny an opening</td>\n",
       "      <td>Two Stars</td>\n",
       "      <td>1408838400</td>\n",
       "      <td>NaN</td>\n",
       "      <td>NaN</td>\n",
       "      <td>NaN</td>\n",
       "    </tr>\n",
       "    <tr>\n",
       "      <th>4</th>\n",
       "      <td>3.0</td>\n",
       "      <td>False</td>\n",
       "      <td>07 27, 2014</td>\n",
       "      <td>597016</td>\n",
       "      <td>7106116521</td>\n",
       "      <td>Alexander D.</td>\n",
       "      <td>Okay</td>\n",
       "      <td>Three Stars</td>\n",
       "      <td>1406419200</td>\n",
       "      <td>NaN</td>\n",
       "      <td>NaN</td>\n",
       "      <td>NaN</td>\n",
       "    </tr>\n",
       "  </tbody>\n",
       "</table>\n",
       "</div>"
      ],
      "text/plain": [
       "   overall  verified   reviewTime  reviewerID        asin  reviewerName  \\\n",
       "0      5.0      True  10 20, 2014       72476  7106116521         Tracy   \n",
       "1      2.0      True  09 28, 2014      469548  7106116521     Sonja Lau   \n",
       "2      4.0     False  08 25, 2014      323626  7106116521      Kathleen   \n",
       "3      2.0      True  08 24, 2014      365298  7106116521   Jodi Stoner   \n",
       "4      3.0     False  07 27, 2014      597016  7106116521  Alexander D.   \n",
       "\n",
       "                                          reviewText  \\\n",
       "0                             Exactly what I needed.   \n",
       "1  I agree with the other review, the opening is ...   \n",
       "2  Love these... I am going to order another pack...   \n",
       "3                                too tiny an opening   \n",
       "4                                               Okay   \n",
       "\n",
       "                                             summary  unixReviewTime vote  \\\n",
       "0                             perfect replacements!!      1413763200  NaN   \n",
       "1  I agree with the other review, the opening is ...      1411862400    3   \n",
       "2                                My New 'Friends' !!      1408924800  NaN   \n",
       "3                                          Two Stars      1408838400  NaN   \n",
       "4                                        Three Stars      1406419200  NaN   \n",
       "\n",
       "  style image  \n",
       "0   NaN   NaN  \n",
       "1   NaN   NaN  \n",
       "2   NaN   NaN  \n",
       "3   NaN   NaN  \n",
       "4   NaN   NaN  "
      ]
     },
     "execution_count": 80,
     "metadata": {},
     "output_type": "execute_result"
    }
   ],
   "source": [
    "df1.head()"
   ]
  },
  {
   "cell_type": "code",
   "execution_count": 87,
   "metadata": {},
   "outputs": [
    {
     "name": "stderr",
     "output_type": "stream",
     "text": [
      "100%|██████████| 883636/883636 [00:01<00:00, 878082.96it/s] \n"
     ]
    }
   ],
   "source": [
    "tqdm.pandas()\n",
    "df1[\"reviewTextLength\"] = df1[\"reviewText\"].progress_apply(lambda x : len(str(x)))"
   ]
  },
  {
   "cell_type": "code",
   "execution_count": 89,
   "metadata": {},
   "outputs": [
    {
     "name": "stderr",
     "output_type": "stream",
     "text": [
      "100%|██████████| 883636/883636 [00:01<00:00, 767333.57it/s]\n"
     ]
    }
   ],
   "source": [
    "df1[\"summaryLength\"] = df1[\"summary\"].progress_apply(lambda x : len(str(x)))"
   ]
  },
  {
   "cell_type": "code",
   "execution_count": 96,
   "metadata": {},
   "outputs": [],
   "source": [
    "def WordCount(x) : \n",
    "    try : \n",
    "        return len(x.split())\n",
    "    except : \n",
    "        return 0 "
   ]
  },
  {
   "cell_type": "code",
   "execution_count": 97,
   "metadata": {},
   "outputs": [
    {
     "name": "stderr",
     "output_type": "stream",
     "text": [
      "100%|██████████| 883636/883636 [00:02<00:00, 390307.52it/s]\n",
      "100%|██████████| 883636/883636 [00:01<00:00, 783767.62it/s]\n"
     ]
    }
   ],
   "source": [
    "df1[\"reviewTextCount\"] = df1[\"reviewText\"].progress_apply(lambda x : WordCount(x))\n",
    "df1[\"summaryCount\"] = df1[\"summary\"].progress_apply(lambda x : WordCount(x))"
   ]
  },
  {
   "cell_type": "code",
   "execution_count": 131,
   "metadata": {},
   "outputs": [],
   "source": [
    "user = df1.groupby('reviewerID').agg({\n",
    "    'overall' : [('meanRating', np.mean)], \n",
    "    'reviewTextLength' : [('meanReviewLength' , np.mean)], \n",
    "    'summaryLength' : [('meanSummaryLength' , np.mean)], \n",
    "    'reviewTextCount' : [('meanReviewWord' , np.mean), ('ReviewCount' , 'count')], \n",
    "    'summaryCount' : [('meanSummaryWord' , np.mean)], \n",
    "}).reset_index()\n",
    "user.columns = user.columns.get_level_values(level=1)"
   ]
  },
  {
   "cell_type": "code",
   "execution_count": 132,
   "metadata": {},
   "outputs": [],
   "source": [
    "user.columns = [\"user_ID\", 'meanRating', 'meanReviewLength', 'meanSummaryLength', 'meanReviewWord', 'ReviewCount', 'meanSummaryWord']"
   ]
  },
  {
   "cell_type": "code",
   "execution_count": 134,
   "metadata": {},
   "outputs": [],
   "source": [
    "user = user[[\"user_ID\", 'meanRating', 'ReviewCount', 'meanReviewLength', 'meanSummaryLength', 'meanReviewWord', 'meanSummaryWord']]"
   ]
  },
  {
   "cell_type": "code",
   "execution_count": 135,
   "metadata": {},
   "outputs": [
    {
     "name": "stdout",
     "output_type": "stream",
     "text": [
      "(749233, 7)\n"
     ]
    },
    {
     "data": {
      "text/html": [
       "<div>\n",
       "<style scoped>\n",
       "    .dataframe tbody tr th:only-of-type {\n",
       "        vertical-align: middle;\n",
       "    }\n",
       "\n",
       "    .dataframe tbody tr th {\n",
       "        vertical-align: top;\n",
       "    }\n",
       "\n",
       "    .dataframe thead th {\n",
       "        text-align: right;\n",
       "    }\n",
       "</style>\n",
       "<table border=\"1\" class=\"dataframe\">\n",
       "  <thead>\n",
       "    <tr style=\"text-align: right;\">\n",
       "      <th></th>\n",
       "      <th>user_ID</th>\n",
       "      <th>meanRating</th>\n",
       "      <th>ReviewCount</th>\n",
       "      <th>meanReviewLength</th>\n",
       "      <th>meanSummaryLength</th>\n",
       "      <th>meanReviewWord</th>\n",
       "      <th>meanSummaryWord</th>\n",
       "    </tr>\n",
       "  </thead>\n",
       "  <tbody>\n",
       "    <tr>\n",
       "      <th>0</th>\n",
       "      <td>0</td>\n",
       "      <td>5.0</td>\n",
       "      <td>1</td>\n",
       "      <td>95.0</td>\n",
       "      <td>16.0</td>\n",
       "      <td>21.0</td>\n",
       "      <td>3.0</td>\n",
       "    </tr>\n",
       "    <tr>\n",
       "      <th>1</th>\n",
       "      <td>1</td>\n",
       "      <td>1.0</td>\n",
       "      <td>1</td>\n",
       "      <td>52.0</td>\n",
       "      <td>14.0</td>\n",
       "      <td>10.0</td>\n",
       "      <td>3.0</td>\n",
       "    </tr>\n",
       "    <tr>\n",
       "      <th>2</th>\n",
       "      <td>2</td>\n",
       "      <td>1.0</td>\n",
       "      <td>1</td>\n",
       "      <td>151.0</td>\n",
       "      <td>38.0</td>\n",
       "      <td>27.0</td>\n",
       "      <td>7.0</td>\n",
       "    </tr>\n",
       "    <tr>\n",
       "      <th>3</th>\n",
       "      <td>3</td>\n",
       "      <td>3.0</td>\n",
       "      <td>1</td>\n",
       "      <td>1478.0</td>\n",
       "      <td>16.0</td>\n",
       "      <td>279.0</td>\n",
       "      <td>3.0</td>\n",
       "    </tr>\n",
       "    <tr>\n",
       "      <th>4</th>\n",
       "      <td>4</td>\n",
       "      <td>5.0</td>\n",
       "      <td>1</td>\n",
       "      <td>49.0</td>\n",
       "      <td>10.0</td>\n",
       "      <td>9.0</td>\n",
       "      <td>2.0</td>\n",
       "    </tr>\n",
       "  </tbody>\n",
       "</table>\n",
       "</div>"
      ],
      "text/plain": [
       "   user_ID  meanRating  ReviewCount  meanReviewLength  meanSummaryLength  \\\n",
       "0        0         5.0            1              95.0               16.0   \n",
       "1        1         1.0            1              52.0               14.0   \n",
       "2        2         1.0            1             151.0               38.0   \n",
       "3        3         3.0            1            1478.0               16.0   \n",
       "4        4         5.0            1              49.0               10.0   \n",
       "\n",
       "   meanReviewWord  meanSummaryWord  \n",
       "0            21.0              3.0  \n",
       "1            10.0              3.0  \n",
       "2            27.0              7.0  \n",
       "3           279.0              3.0  \n",
       "4             9.0              2.0  "
      ]
     },
     "execution_count": 135,
     "metadata": {},
     "output_type": "execute_result"
    }
   ],
   "source": [
    "'''\n",
    "user_ID : user ID \n",
    "meanRating : 평균 평점 \n",
    "ReviewCount : 리뷰 개수\n",
    "\n",
    "meanReviewLength : 평균 리뷰 길이 \n",
    "meanSummaryLength : 평균 Summary 길이 \n",
    "meanReviewWord : 평균 리뷰 단어 개수 \n",
    "meanSummaryWord : 평균 Summary 단어 개수 \n",
    "'''\n",
    "\n",
    "print(user.shape)\n",
    "user.head()"
   ]
  },
  {
   "cell_type": "code",
   "execution_count": 136,
   "metadata": {},
   "outputs": [
    {
     "data": {
      "text/html": [
       "<div>\n",
       "<style scoped>\n",
       "    .dataframe tbody tr th:only-of-type {\n",
       "        vertical-align: middle;\n",
       "    }\n",
       "\n",
       "    .dataframe tbody tr th {\n",
       "        vertical-align: top;\n",
       "    }\n",
       "\n",
       "    .dataframe thead th {\n",
       "        text-align: right;\n",
       "    }\n",
       "</style>\n",
       "<table border=\"1\" class=\"dataframe\">\n",
       "  <thead>\n",
       "    <tr style=\"text-align: right;\">\n",
       "      <th></th>\n",
       "      <th>user_ID</th>\n",
       "      <th>meanRating</th>\n",
       "      <th>ReviewCount</th>\n",
       "      <th>meanReviewLength</th>\n",
       "      <th>meanSummaryLength</th>\n",
       "      <th>meanReviewWord</th>\n",
       "      <th>meanSummaryWord</th>\n",
       "    </tr>\n",
       "  </thead>\n",
       "  <tbody>\n",
       "    <tr>\n",
       "      <th>749228</th>\n",
       "      <td>749228</td>\n",
       "      <td>3.0</td>\n",
       "      <td>1</td>\n",
       "      <td>22.0</td>\n",
       "      <td>11.0</td>\n",
       "      <td>5.0</td>\n",
       "      <td>2.0</td>\n",
       "    </tr>\n",
       "    <tr>\n",
       "      <th>749229</th>\n",
       "      <td>749229</td>\n",
       "      <td>5.0</td>\n",
       "      <td>1</td>\n",
       "      <td>225.0</td>\n",
       "      <td>17.0</td>\n",
       "      <td>43.0</td>\n",
       "      <td>2.0</td>\n",
       "    </tr>\n",
       "    <tr>\n",
       "      <th>749230</th>\n",
       "      <td>749230</td>\n",
       "      <td>5.0</td>\n",
       "      <td>1</td>\n",
       "      <td>100.0</td>\n",
       "      <td>10.0</td>\n",
       "      <td>19.0</td>\n",
       "      <td>2.0</td>\n",
       "    </tr>\n",
       "    <tr>\n",
       "      <th>749231</th>\n",
       "      <td>749231</td>\n",
       "      <td>2.0</td>\n",
       "      <td>1</td>\n",
       "      <td>346.0</td>\n",
       "      <td>17.0</td>\n",
       "      <td>65.0</td>\n",
       "      <td>3.0</td>\n",
       "    </tr>\n",
       "    <tr>\n",
       "      <th>749232</th>\n",
       "      <td>749232</td>\n",
       "      <td>5.0</td>\n",
       "      <td>1</td>\n",
       "      <td>4.0</td>\n",
       "      <td>4.0</td>\n",
       "      <td>1.0</td>\n",
       "      <td>1.0</td>\n",
       "    </tr>\n",
       "  </tbody>\n",
       "</table>\n",
       "</div>"
      ],
      "text/plain": [
       "        user_ID  meanRating  ReviewCount  meanReviewLength  meanSummaryLength  \\\n",
       "749228   749228         3.0            1              22.0               11.0   \n",
       "749229   749229         5.0            1             225.0               17.0   \n",
       "749230   749230         5.0            1             100.0               10.0   \n",
       "749231   749231         2.0            1             346.0               17.0   \n",
       "749232   749232         5.0            1               4.0                4.0   \n",
       "\n",
       "        meanReviewWord  meanSummaryWord  \n",
       "749228             5.0              2.0  \n",
       "749229            43.0              2.0  \n",
       "749230            19.0              2.0  \n",
       "749231            65.0              3.0  \n",
       "749232             1.0              1.0  "
      ]
     },
     "execution_count": 136,
     "metadata": {},
     "output_type": "execute_result"
    }
   ],
   "source": [
    "user.tail()"
   ]
  },
  {
   "cell_type": "code",
   "execution_count": 142,
   "metadata": {},
   "outputs": [],
   "source": [
    "user[\"user_ID\"] = user[\"user_ID\"].astype('category')"
   ]
  },
  {
   "cell_type": "code",
   "execution_count": 144,
   "metadata": {},
   "outputs": [],
   "source": [
    "with open('user.pickle', 'wb') as f:\n",
    "    pickle.dump(user, f)"
   ]
  },
  {
   "cell_type": "code",
   "execution_count": 139,
   "metadata": {},
   "outputs": [],
   "source": [
    "with open('user.pickle', 'rb') as f : \n",
    "    df = pickle.load(f)"
   ]
  },
  {
   "cell_type": "code",
   "execution_count": null,
   "metadata": {},
   "outputs": [],
   "source": []
  },
  {
   "cell_type": "code",
   "execution_count": 121,
   "metadata": {},
   "outputs": [
    {
     "data": {
      "text/html": [
       "<div>\n",
       "<style scoped>\n",
       "    .dataframe tbody tr th:only-of-type {\n",
       "        vertical-align: middle;\n",
       "    }\n",
       "\n",
       "    .dataframe tbody tr th {\n",
       "        vertical-align: top;\n",
       "    }\n",
       "\n",
       "    .dataframe thead th {\n",
       "        text-align: right;\n",
       "    }\n",
       "</style>\n",
       "<table border=\"1\" class=\"dataframe\">\n",
       "  <thead>\n",
       "    <tr style=\"text-align: right;\">\n",
       "      <th></th>\n",
       "      <th>reviewerID</th>\n",
       "      <th>ReviewCount</th>\n",
       "      <th>meanRating</th>\n",
       "      <th>meanReviewLength</th>\n",
       "      <th>meanSummaryLength</th>\n",
       "      <th>meanReviewWord</th>\n",
       "      <th>meanSummaryWord</th>\n",
       "    </tr>\n",
       "  </thead>\n",
       "  <tbody>\n",
       "    <tr>\n",
       "      <th>5</th>\n",
       "      <td>5</td>\n",
       "      <td>4</td>\n",
       "      <td>5.000000</td>\n",
       "      <td>50.000000</td>\n",
       "      <td>10.25</td>\n",
       "      <td>10.000000</td>\n",
       "      <td>1.75</td>\n",
       "    </tr>\n",
       "    <tr>\n",
       "      <th>13</th>\n",
       "      <td>13</td>\n",
       "      <td>2</td>\n",
       "      <td>4.000000</td>\n",
       "      <td>35.000000</td>\n",
       "      <td>10.50</td>\n",
       "      <td>7.000000</td>\n",
       "      <td>2.00</td>\n",
       "    </tr>\n",
       "    <tr>\n",
       "      <th>15</th>\n",
       "      <td>15</td>\n",
       "      <td>2</td>\n",
       "      <td>5.000000</td>\n",
       "      <td>10.500000</td>\n",
       "      <td>8.00</td>\n",
       "      <td>2.500000</td>\n",
       "      <td>2.00</td>\n",
       "    </tr>\n",
       "    <tr>\n",
       "      <th>18</th>\n",
       "      <td>18</td>\n",
       "      <td>2</td>\n",
       "      <td>3.500000</td>\n",
       "      <td>205.000000</td>\n",
       "      <td>35.00</td>\n",
       "      <td>41.500000</td>\n",
       "      <td>7.50</td>\n",
       "    </tr>\n",
       "    <tr>\n",
       "      <th>20</th>\n",
       "      <td>20</td>\n",
       "      <td>2</td>\n",
       "      <td>3.500000</td>\n",
       "      <td>36.500000</td>\n",
       "      <td>10.50</td>\n",
       "      <td>7.500000</td>\n",
       "      <td>2.00</td>\n",
       "    </tr>\n",
       "    <tr>\n",
       "      <th>...</th>\n",
       "      <td>...</td>\n",
       "      <td>...</td>\n",
       "      <td>...</td>\n",
       "      <td>...</td>\n",
       "      <td>...</td>\n",
       "      <td>...</td>\n",
       "      <td>...</td>\n",
       "    </tr>\n",
       "    <tr>\n",
       "      <th>749200</th>\n",
       "      <td>749200</td>\n",
       "      <td>4</td>\n",
       "      <td>4.500000</td>\n",
       "      <td>126.750000</td>\n",
       "      <td>8.75</td>\n",
       "      <td>22.000000</td>\n",
       "      <td>1.50</td>\n",
       "    </tr>\n",
       "    <tr>\n",
       "      <th>749201</th>\n",
       "      <td>749201</td>\n",
       "      <td>2</td>\n",
       "      <td>4.500000</td>\n",
       "      <td>22.000000</td>\n",
       "      <td>23.00</td>\n",
       "      <td>5.500000</td>\n",
       "      <td>5.50</td>\n",
       "    </tr>\n",
       "    <tr>\n",
       "      <th>749207</th>\n",
       "      <td>749207</td>\n",
       "      <td>2</td>\n",
       "      <td>2.000000</td>\n",
       "      <td>36.500000</td>\n",
       "      <td>8.00</td>\n",
       "      <td>7.000000</td>\n",
       "      <td>1.50</td>\n",
       "    </tr>\n",
       "    <tr>\n",
       "      <th>749220</th>\n",
       "      <td>749220</td>\n",
       "      <td>2</td>\n",
       "      <td>4.500000</td>\n",
       "      <td>366.000000</td>\n",
       "      <td>32.50</td>\n",
       "      <td>66.500000</td>\n",
       "      <td>6.50</td>\n",
       "    </tr>\n",
       "    <tr>\n",
       "      <th>749224</th>\n",
       "      <td>749224</td>\n",
       "      <td>11</td>\n",
       "      <td>4.818182</td>\n",
       "      <td>20.545455</td>\n",
       "      <td>10.00</td>\n",
       "      <td>4.090909</td>\n",
       "      <td>2.00</td>\n",
       "    </tr>\n",
       "  </tbody>\n",
       "</table>\n",
       "<p>93913 rows × 7 columns</p>\n",
       "</div>"
      ],
      "text/plain": [
       "        reviewerID  ReviewCount  meanRating  meanReviewLength  \\\n",
       "5                5            4    5.000000         50.000000   \n",
       "13              13            2    4.000000         35.000000   \n",
       "15              15            2    5.000000         10.500000   \n",
       "18              18            2    3.500000        205.000000   \n",
       "20              20            2    3.500000         36.500000   \n",
       "...            ...          ...         ...               ...   \n",
       "749200      749200            4    4.500000        126.750000   \n",
       "749201      749201            2    4.500000         22.000000   \n",
       "749207      749207            2    2.000000         36.500000   \n",
       "749220      749220            2    4.500000        366.000000   \n",
       "749224      749224           11    4.818182         20.545455   \n",
       "\n",
       "        meanSummaryLength  meanReviewWord  meanSummaryWord  \n",
       "5                   10.25       10.000000             1.75  \n",
       "13                  10.50        7.000000             2.00  \n",
       "15                   8.00        2.500000             2.00  \n",
       "18                  35.00       41.500000             7.50  \n",
       "20                  10.50        7.500000             2.00  \n",
       "...                   ...             ...              ...  \n",
       "749200               8.75       22.000000             1.50  \n",
       "749201              23.00        5.500000             5.50  \n",
       "749207               8.00        7.000000             1.50  \n",
       "749220              32.50       66.500000             6.50  \n",
       "749224              10.00        4.090909             2.00  \n",
       "\n",
       "[93913 rows x 7 columns]"
      ]
     },
     "execution_count": 121,
     "metadata": {},
     "output_type": "execute_result"
    }
   ],
   "source": [
    "user[user[\"ReviewCount\"] > 1]"
   ]
  },
  {
   "cell_type": "code",
   "execution_count": 122,
   "metadata": {},
   "outputs": [
    {
     "data": {
      "text/html": [
       "<div>\n",
       "<style scoped>\n",
       "    .dataframe tbody tr th:only-of-type {\n",
       "        vertical-align: middle;\n",
       "    }\n",
       "\n",
       "    .dataframe tbody tr th {\n",
       "        vertical-align: top;\n",
       "    }\n",
       "\n",
       "    .dataframe thead th {\n",
       "        text-align: right;\n",
       "    }\n",
       "</style>\n",
       "<table border=\"1\" class=\"dataframe\">\n",
       "  <thead>\n",
       "    <tr style=\"text-align: right;\">\n",
       "      <th></th>\n",
       "      <th>reviewerID</th>\n",
       "      <th>ReviewCount</th>\n",
       "      <th>meanRating</th>\n",
       "      <th>meanReviewLength</th>\n",
       "      <th>meanSummaryLength</th>\n",
       "      <th>meanReviewWord</th>\n",
       "      <th>meanSummaryWord</th>\n",
       "    </tr>\n",
       "  </thead>\n",
       "  <tbody>\n",
       "    <tr>\n",
       "      <th>count</th>\n",
       "      <td>93913.000000</td>\n",
       "      <td>93913.000000</td>\n",
       "      <td>93913.000000</td>\n",
       "      <td>93913.000000</td>\n",
       "      <td>93913.000000</td>\n",
       "      <td>93913.000000</td>\n",
       "      <td>93913.000000</td>\n",
       "    </tr>\n",
       "    <tr>\n",
       "      <th>mean</th>\n",
       "      <td>375905.334224</td>\n",
       "      <td>2.431144</td>\n",
       "      <td>3.989804</td>\n",
       "      <td>158.187964</td>\n",
       "      <td>21.505300</td>\n",
       "      <td>30.336176</td>\n",
       "      <td>4.144899</td>\n",
       "    </tr>\n",
       "    <tr>\n",
       "      <th>std</th>\n",
       "      <td>215870.555366</td>\n",
       "      <td>1.093152</td>\n",
       "      <td>1.108401</td>\n",
       "      <td>205.312254</td>\n",
       "      <td>15.279378</td>\n",
       "      <td>38.898708</td>\n",
       "      <td>3.010474</td>\n",
       "    </tr>\n",
       "    <tr>\n",
       "      <th>min</th>\n",
       "      <td>5.000000</td>\n",
       "      <td>2.000000</td>\n",
       "      <td>1.000000</td>\n",
       "      <td>1.000000</td>\n",
       "      <td>1.000000</td>\n",
       "      <td>0.000000</td>\n",
       "      <td>0.000000</td>\n",
       "    </tr>\n",
       "    <tr>\n",
       "      <th>25%</th>\n",
       "      <td>188975.000000</td>\n",
       "      <td>2.000000</td>\n",
       "      <td>3.333333</td>\n",
       "      <td>45.000000</td>\n",
       "      <td>10.000000</td>\n",
       "      <td>8.500000</td>\n",
       "      <td>2.000000</td>\n",
       "    </tr>\n",
       "    <tr>\n",
       "      <th>50%</th>\n",
       "      <td>376539.000000</td>\n",
       "      <td>2.000000</td>\n",
       "      <td>4.333333</td>\n",
       "      <td>99.500000</td>\n",
       "      <td>16.000000</td>\n",
       "      <td>19.000000</td>\n",
       "      <td>3.000000</td>\n",
       "    </tr>\n",
       "    <tr>\n",
       "      <th>75%</th>\n",
       "      <td>562976.000000</td>\n",
       "      <td>2.000000</td>\n",
       "      <td>5.000000</td>\n",
       "      <td>192.000000</td>\n",
       "      <td>28.500000</td>\n",
       "      <td>37.000000</td>\n",
       "      <td>5.500000</td>\n",
       "    </tr>\n",
       "    <tr>\n",
       "      <th>max</th>\n",
       "      <td>749224.000000</td>\n",
       "      <td>40.000000</td>\n",
       "      <td>5.000000</td>\n",
       "      <td>6688.000000</td>\n",
       "      <td>172.000000</td>\n",
       "      <td>1289.000000</td>\n",
       "      <td>36.000000</td>\n",
       "    </tr>\n",
       "  </tbody>\n",
       "</table>\n",
       "</div>"
      ],
      "text/plain": [
       "          reviewerID   ReviewCount    meanRating  meanReviewLength  \\\n",
       "count   93913.000000  93913.000000  93913.000000      93913.000000   \n",
       "mean   375905.334224      2.431144      3.989804        158.187964   \n",
       "std    215870.555366      1.093152      1.108401        205.312254   \n",
       "min         5.000000      2.000000      1.000000          1.000000   \n",
       "25%    188975.000000      2.000000      3.333333         45.000000   \n",
       "50%    376539.000000      2.000000      4.333333         99.500000   \n",
       "75%    562976.000000      2.000000      5.000000        192.000000   \n",
       "max    749224.000000     40.000000      5.000000       6688.000000   \n",
       "\n",
       "       meanSummaryLength  meanReviewWord  meanSummaryWord  \n",
       "count       93913.000000    93913.000000     93913.000000  \n",
       "mean           21.505300       30.336176         4.144899  \n",
       "std            15.279378       38.898708         3.010474  \n",
       "min             1.000000        0.000000         0.000000  \n",
       "25%            10.000000        8.500000         2.000000  \n",
       "50%            16.000000       19.000000         3.000000  \n",
       "75%            28.500000       37.000000         5.500000  \n",
       "max           172.000000     1289.000000        36.000000  "
      ]
     },
     "execution_count": 122,
     "metadata": {},
     "output_type": "execute_result"
    }
   ],
   "source": [
    "user[user[\"ReviewCount\"] > 1].describe()"
   ]
  },
  {
   "cell_type": "markdown",
   "metadata": {},
   "source": [
    "### user \n",
    "1. userID (reviewerID) -> 1부터 ~ \n",
    "2. reviewText (평균) 길이 \n",
    "3. summary (평균) 길이 \n",
    "4. overall (평균) 점수 \n",
    "\n",
    "### item \n",
    "1. brand (18000개, 1개 이상 10000개) / etc -> 기각 \n",
    "2. Feature : dimension / weight \n",
    "3. rank : 전처리 해서 가져오기 -> 카테고리화 \n",
    "4. price : NaN 많음 \n",
    "5. 1/0 : imageURL, description \n",
    "\n",
    "### rating \n",
    "1. movielens 랑 똑같이 "
   ]
  },
  {
   "cell_type": "code",
   "execution_count": 5,
   "metadata": {},
   "outputs": [
    {
     "name": "stdout",
     "output_type": "stream",
     "text": [
      "(186637, 16)\n"
     ]
    },
    {
     "data": {
      "text/html": [
       "<div>\n",
       "<style scoped>\n",
       "    .dataframe tbody tr th:only-of-type {\n",
       "        vertical-align: middle;\n",
       "    }\n",
       "\n",
       "    .dataframe tbody tr th {\n",
       "        vertical-align: top;\n",
       "    }\n",
       "\n",
       "    .dataframe thead th {\n",
       "        text-align: right;\n",
       "    }\n",
       "</style>\n",
       "<table border=\"1\" class=\"dataframe\">\n",
       "  <thead>\n",
       "    <tr style=\"text-align: right;\">\n",
       "      <th></th>\n",
       "      <th>title</th>\n",
       "      <th>brand</th>\n",
       "      <th>feature</th>\n",
       "      <th>rank</th>\n",
       "      <th>date</th>\n",
       "      <th>asin</th>\n",
       "      <th>imageURL</th>\n",
       "      <th>imageURLHighRes</th>\n",
       "      <th>description</th>\n",
       "      <th>price</th>\n",
       "      <th>also_view</th>\n",
       "      <th>also_buy</th>\n",
       "      <th>fit</th>\n",
       "      <th>details</th>\n",
       "      <th>similar_item</th>\n",
       "      <th>tech1</th>\n",
       "    </tr>\n",
       "  </thead>\n",
       "  <tbody>\n",
       "    <tr>\n",
       "      <th>0</th>\n",
       "      <td>Slime Time Fall Fest [With CDROM and Collector...</td>\n",
       "      <td>Group Publishing (CO)</td>\n",
       "      <td>[Product Dimensions:\\n                    \\n8....</td>\n",
       "      <td>13,052,976inClothing,Shoesamp;Jewelry(</td>\n",
       "      <td>8.70 inches</td>\n",
       "      <td>0764443682</td>\n",
       "      <td>[https://images-na.ssl-images-amazon.com/image...</td>\n",
       "      <td>[https://images-na.ssl-images-amazon.com/image...</td>\n",
       "      <td>NaN</td>\n",
       "      <td>NaN</td>\n",
       "      <td>NaN</td>\n",
       "      <td>NaN</td>\n",
       "      <td>NaN</td>\n",
       "      <td>NaN</td>\n",
       "      <td>NaN</td>\n",
       "      <td>NaN</td>\n",
       "    </tr>\n",
       "    <tr>\n",
       "      <th>1</th>\n",
       "      <td>XCC Qi promise new spider snake preparing men'...</td>\n",
       "      <td>NaN</td>\n",
       "      <td>NaN</td>\n",
       "      <td>11,654,581inClothing,Shoesamp;Jewelry(</td>\n",
       "      <td>5 star</td>\n",
       "      <td>1291691480</td>\n",
       "      <td>[https://images-na.ssl-images-amazon.com/image...</td>\n",
       "      <td>[https://images-na.ssl-images-amazon.com/image...</td>\n",
       "      <td>NaN</td>\n",
       "      <td>NaN</td>\n",
       "      <td>NaN</td>\n",
       "      <td>NaN</td>\n",
       "      <td>NaN</td>\n",
       "      <td>NaN</td>\n",
       "      <td>NaN</td>\n",
       "      <td>NaN</td>\n",
       "    </tr>\n",
       "    <tr>\n",
       "      <th>2</th>\n",
       "      <td>Magical Things I Really Do Do Too!</td>\n",
       "      <td>Christopher Manos</td>\n",
       "      <td>[Package Dimensions:\\n                    \\n8....</td>\n",
       "      <td>19,308,073inClothing,ShoesJewelry(</td>\n",
       "      <td>5 star</td>\n",
       "      <td>1940280001</td>\n",
       "      <td>[https://images-na.ssl-images-amazon.com/image...</td>\n",
       "      <td>[https://images-na.ssl-images-amazon.com/image...</td>\n",
       "      <td>[For the professional or amateur magician.  Ro...</td>\n",
       "      <td>NaN</td>\n",
       "      <td>NaN</td>\n",
       "      <td>NaN</td>\n",
       "      <td>NaN</td>\n",
       "      <td>NaN</td>\n",
       "      <td>NaN</td>\n",
       "      <td>NaN</td>\n",
       "    </tr>\n",
       "    <tr>\n",
       "      <th>3</th>\n",
       "      <td>Ashes to Ashes, Oranges to Oranges</td>\n",
       "      <td>Flickerlamp Publishing</td>\n",
       "      <td>[Package Dimensions:\\n                    \\n8....</td>\n",
       "      <td>19,734,184inClothing,ShoesJewelry(</td>\n",
       "      <td>5 star</td>\n",
       "      <td>1940735033</td>\n",
       "      <td>[https://images-na.ssl-images-amazon.com/image...</td>\n",
       "      <td>[https://images-na.ssl-images-amazon.com/image...</td>\n",
       "      <td>NaN</td>\n",
       "      <td>NaN</td>\n",
       "      <td>NaN</td>\n",
       "      <td>NaN</td>\n",
       "      <td>NaN</td>\n",
       "      <td>NaN</td>\n",
       "      <td>NaN</td>\n",
       "      <td>NaN</td>\n",
       "    </tr>\n",
       "    <tr>\n",
       "      <th>4</th>\n",
       "      <td>Aether &amp; Empire #1 - 2016 First Printing Comic...</td>\n",
       "      <td>NaN</td>\n",
       "      <td>[Package Dimensions:\\n                    \\n10...</td>\n",
       "      <td>10,558,646inClothing,Shoesamp;Jewelry(</td>\n",
       "      <td>5 star</td>\n",
       "      <td>1940967805</td>\n",
       "      <td>[https://images-na.ssl-images-amazon.com/image...</td>\n",
       "      <td>[https://images-na.ssl-images-amazon.com/image...</td>\n",
       "      <td>NaN</td>\n",
       "      <td>$4.50</td>\n",
       "      <td>NaN</td>\n",
       "      <td>NaN</td>\n",
       "      <td>NaN</td>\n",
       "      <td>NaN</td>\n",
       "      <td>NaN</td>\n",
       "      <td>NaN</td>\n",
       "    </tr>\n",
       "  </tbody>\n",
       "</table>\n",
       "</div>"
      ],
      "text/plain": [
       "                                               title                   brand  \\\n",
       "0  Slime Time Fall Fest [With CDROM and Collector...   Group Publishing (CO)   \n",
       "1  XCC Qi promise new spider snake preparing men'...                     NaN   \n",
       "2                 Magical Things I Really Do Do Too!       Christopher Manos   \n",
       "3                 Ashes to Ashes, Oranges to Oranges  Flickerlamp Publishing   \n",
       "4  Aether & Empire #1 - 2016 First Printing Comic...                     NaN   \n",
       "\n",
       "                                             feature  \\\n",
       "0  [Product Dimensions:\\n                    \\n8....   \n",
       "1                                                NaN   \n",
       "2  [Package Dimensions:\\n                    \\n8....   \n",
       "3  [Package Dimensions:\\n                    \\n8....   \n",
       "4  [Package Dimensions:\\n                    \\n10...   \n",
       "\n",
       "                                     rank         date        asin  \\\n",
       "0  13,052,976inClothing,Shoesamp;Jewelry(  8.70 inches  0764443682   \n",
       "1  11,654,581inClothing,Shoesamp;Jewelry(       5 star  1291691480   \n",
       "2      19,308,073inClothing,ShoesJewelry(       5 star  1940280001   \n",
       "3      19,734,184inClothing,ShoesJewelry(       5 star  1940735033   \n",
       "4  10,558,646inClothing,Shoesamp;Jewelry(       5 star  1940967805   \n",
       "\n",
       "                                            imageURL  \\\n",
       "0  [https://images-na.ssl-images-amazon.com/image...   \n",
       "1  [https://images-na.ssl-images-amazon.com/image...   \n",
       "2  [https://images-na.ssl-images-amazon.com/image...   \n",
       "3  [https://images-na.ssl-images-amazon.com/image...   \n",
       "4  [https://images-na.ssl-images-amazon.com/image...   \n",
       "\n",
       "                                     imageURLHighRes  \\\n",
       "0  [https://images-na.ssl-images-amazon.com/image...   \n",
       "1  [https://images-na.ssl-images-amazon.com/image...   \n",
       "2  [https://images-na.ssl-images-amazon.com/image...   \n",
       "3  [https://images-na.ssl-images-amazon.com/image...   \n",
       "4  [https://images-na.ssl-images-amazon.com/image...   \n",
       "\n",
       "                                         description  price also_view  \\\n",
       "0                                                NaN    NaN       NaN   \n",
       "1                                                NaN    NaN       NaN   \n",
       "2  [For the professional or amateur magician.  Ro...    NaN       NaN   \n",
       "3                                                NaN    NaN       NaN   \n",
       "4                                                NaN  $4.50       NaN   \n",
       "\n",
       "  also_buy  fit details similar_item tech1  \n",
       "0      NaN  NaN     NaN          NaN   NaN  \n",
       "1      NaN  NaN     NaN          NaN   NaN  \n",
       "2      NaN  NaN     NaN          NaN   NaN  \n",
       "3      NaN  NaN     NaN          NaN   NaN  \n",
       "4      NaN  NaN     NaN          NaN   NaN  "
      ]
     },
     "execution_count": 5,
     "metadata": {},
     "output_type": "execute_result"
    }
   ],
   "source": [
    "print(df2.shape)\n",
    "df2.head()"
   ]
  },
  {
   "cell_type": "code",
   "execution_count": 50,
   "metadata": {},
   "outputs": [
    {
     "data": {
      "text/plain": [
       "'Ashes to Ashes, Oranges to Oranges'"
      ]
     },
     "execution_count": 50,
     "metadata": {},
     "output_type": "execute_result"
    }
   ],
   "source": [
    "df2.iloc[3][\"title\"]"
   ]
  },
  {
   "cell_type": "code",
   "execution_count": 34,
   "metadata": {},
   "outputs": [
    {
     "data": {
      "text/plain": [
       "'8.70 inches'"
      ]
     },
     "execution_count": 34,
     "metadata": {},
     "output_type": "execute_result"
    }
   ],
   "source": [
    "df2.iloc[0][\"date\"]"
   ]
  },
  {
   "cell_type": "code",
   "execution_count": 51,
   "metadata": {},
   "outputs": [
    {
     "data": {
      "text/plain": [
       "nan"
      ]
     },
     "execution_count": 51,
     "metadata": {},
     "output_type": "execute_result"
    }
   ],
   "source": [
    "df2.iloc[11][\"similar_item\"]"
   ]
  },
  {
   "cell_type": "code",
   "execution_count": 35,
   "metadata": {},
   "outputs": [
    {
     "data": {
      "text/plain": [
       "'5 star5 star (0%)'"
      ]
     },
     "execution_count": 35,
     "metadata": {},
     "output_type": "execute_result"
    }
   ],
   "source": [
    "df2.iloc[111][\"date\"]"
   ]
  },
  {
   "cell_type": "code",
   "execution_count": 36,
   "metadata": {},
   "outputs": [
    {
     "data": {
      "text/plain": [
       "'fishhook'"
      ]
     },
     "execution_count": 36,
     "metadata": {},
     "output_type": "execute_result"
    }
   ],
   "source": [
    "df2.iloc[10][\"date\"]"
   ]
  },
  {
   "cell_type": "code",
   "execution_count": 46,
   "metadata": {},
   "outputs": [
    {
     "data": {
      "text/plain": [
       "nan"
      ]
     },
     "execution_count": 46,
     "metadata": {},
     "output_type": "execute_result"
    }
   ],
   "source": [
    "df2.iloc[1][\"price\"]"
   ]
  },
  {
   "cell_type": "code",
   "execution_count": null,
   "metadata": {},
   "outputs": [],
   "source": []
  },
  {
   "cell_type": "code",
   "execution_count": 9,
   "metadata": {},
   "outputs": [
    {
     "name": "stdout",
     "output_type": "stream",
     "text": [
      "Using backend: pytorch\n",
      "process_movielens1m.py:103: UserWarning: The given NumPy array is not writeable, and PyTorch does not support non-writeable tensors. This means you can write to the underlying (supposedly non-writeable) NumPy array using the tensor. You may want to copy the array to protect its data or make it writeable before converting it to a tensor. This type of warning will be suppressed for the rest of this program. (Triggered internally at  ../torch/csrc/utils/tensor_numpy.cpp:143.)\n",
      "  g.nodes['user'].data['gender'] = torch.LongTensor(users['gender'].cat.codes.values)\n",
      "/Users/jbeen/workdir/tobigs/gnn/pinsage/data_utils.py:25: UserWarning: `meta` is not specified, inferred from partial data. Please provide `meta` if the result is unexpected.\n",
      "  Before: .apply(func)\n",
      "  After:  .apply(func, meta={'x': 'f8', 'y': 'f8'}) for dataframe result\n",
      "  or:     .apply(func, meta=('x', 'f8'))            for series result\n",
      "  df = df.groupby(user, group_keys=False).apply(train_test_split).compute(scheduler='processes').sort_index()\n",
      "Using backend: pytorch\n",
      "Using backend: pytorch\n",
      "Using backend: pytorch\n",
      "Using backend: pytorch\n",
      "Using backend: pytorch\n",
      "Using backend: pytorch\n",
      "Using backend: pytorch\n",
      "Using backend: pytorch\n",
      "    user_id  movie_id  rating  timestamp  train_mask  val_mask  test_mask\n",
      "31        1      3186       4  978300019        True     False      False\n",
      "27        1      1721       4  978300055        True     False      False\n",
      "37        1      1022       5  978300055        True     False      False\n",
      "22        1      1270       5  978300055        True     False      False\n",
      "24        1      2340       3  978300103        True     False      False\n",
      "36        1      1836       5  978300172        True     False      False\n",
      "3         1      3408       4  978300275        True     False      False\n",
      "47        1      1207       4  978300719        True     False      False\n",
      "7         1      2804       5  978300719        True     False      False\n",
      "21        1       720       3  978300760        True     False      False\n",
      "0         1      1193       5  978300760        True     False      False\n",
      "44        1       260       4  978300760        True     False      False\n",
      "9         1       919       4  978301368        True     False      False\n",
      "51        1       608       4  978301398        True     False      False\n",
      "43        1      2692       4  978301570        True     False      False\n",
      "41        1      1961       5  978301590        True     False      False\n",
      "48        1      2028       5  978301619        True     False      False\n",
      "18        1      3105       5  978301713        True     False      False\n",
      "11        1       938       4  978301752        True     False      False\n",
      "42        1      1962       4  978301753        True     False      False\n",
      "14        1      1035       5  978301753        True     False      False\n",
      "39        1       150       5  978301777        True     False      False\n",
      "17        1      2018       4  978301777        True     False      False\n",
      "45        1      1028       5  978301777        True     False      False\n",
      "26        1      1097       4  978301953        True     False      False\n",
      "2         1       914       3  978301968        True     False      False\n",
      "19        1      2797       4  978302039        True     False      False\n",
      "6         1      1287       5  978302039        True     False      False\n",
      "38        1      2762       4  978302091        True     False      False\n",
      "52        1      1246       4  978302091        True     False      False\n",
      "1         1       661       3  978302109        True     False      False\n",
      "13        1      2918       4  978302124        True     False      False\n",
      "49        1       531       4  978302149        True     False      False\n",
      "50        1      3114       4  978302174        True     False      False\n",
      "15        1      2791       4  978302188        True     False      False\n",
      "46        1      1029       5  978302205        True     False      False\n",
      "20        1      2321       3  978302205        True     False      False\n",
      "5         1      1197       3  978302268        True     False      False\n",
      "8         1       594       4  978302268        True     False      False\n",
      "12        1      2398       4  978302281        True     False      False\n",
      "28        1      1545       4  978824139        True     False      False\n",
      "23        1       527       5  978824195        True     False      False\n",
      "40        1         1       5  978824268        True     False      False\n",
      "33        1       588       4  978824268        True     False      False\n",
      "16        1      2687       3  978824268        True     False      False\n",
      "29        1       745       3  978824268        True     False      False\n",
      "10        1       595       5  978824268        True     False      False\n",
      "30        1      2294       4  978824291        True     False      False\n",
      "35        1       783       4  978824291        True     False      False\n",
      "4         1      2355       5  978824291        True     False      False\n",
      "34        1      1907       4  978824330        True     False      False\n",
      "32        1      1566       4  978824330       False      True      False\n",
      "25        1        48       5  978824351       False     False       True\n"
     ]
    }
   ],
   "source": [
    "!python process_movielens1m.py ./ml-1m ./data.pkl"
   ]
  },
  {
   "cell_type": "code",
   "execution_count": 10,
   "metadata": {},
   "outputs": [],
   "source": [
    "with open('data.pkl', 'rb') as f:\n",
    "    movielens = pickle.load(f)"
   ]
  },
  {
   "cell_type": "code",
   "execution_count": 11,
   "metadata": {},
   "outputs": [
    {
     "data": {
      "text/plain": [
       "{'train-graph': Graph(num_nodes={'movie': 3706, 'user': 6040},\n",
       "       num_edges={('movie', 'watched-by', 'user'): 988129, ('user', 'watched', 'movie'): 988129},\n",
       "       metagraph=[('movie', 'user', 'watched-by'), ('user', 'movie', 'watched')]),\n",
       " 'val-matrix': <6040x3706 sparse matrix of type '<class 'numpy.int64'>'\n",
       " \twith 6040 stored elements in COOrdinate format>,\n",
       " 'test-matrix': <6040x3706 sparse matrix of type '<class 'numpy.int64'>'\n",
       " \twith 6040 stored elements in COOrdinate format>,\n",
       " 'item-texts': {'title': array(['Toy Story', 'Jumanji', 'Grumpier Old Men', ..., 'Tigerland',\n",
       "         'Two Family House', 'Contender, The'], dtype=object)},\n",
       " 'item-images': None,\n",
       " 'user-type': 'user',\n",
       " 'item-type': 'movie',\n",
       " 'user-to-item-type': 'watched',\n",
       " 'item-to-user-type': 'watched-by',\n",
       " 'timestamp-edge-column': 'timestamp'}"
      ]
     },
     "execution_count": 11,
     "metadata": {},
     "output_type": "execute_result"
    }
   ],
   "source": [
    "movielens"
   ]
  },
  {
   "cell_type": "code",
   "execution_count": 102,
   "metadata": {},
   "outputs": [
    {
     "data": {
      "text/plain": [
       "array(['Toy Story', 'Jumanji', 'Grumpier Old Men', 'Waiting to Exhale',\n",
       "       'Father of the Bride Part II', 'Heat', 'Sabrina', 'Tom and Huck',\n",
       "       'Sudden Death', 'GoldenEye', 'American President, The',\n",
       "       'Dracula: Dead and Loving It', 'Balto', 'Nixon',\n",
       "       'Cutthroat Island', 'Casino', 'Sense and Sensibility',\n",
       "       'Four Rooms', 'Ace Ventura: When Nature Calls', 'Money Train',\n",
       "       'Get Shorty', 'Copycat', 'Assassins', 'Powder',\n",
       "       'Leaving Las Vegas', 'Othello', 'Now and Then', 'Persuasion',\n",
       "       'City of Lost Children, The',\n",
       "       'Shanghai Triad (Yao a yao yao dao waipo qiao)', 'Dangerous Minds',\n",
       "       'Twelve Monkeys', 'Wings of Courage', 'Babe', 'Carrington',\n",
       "       'Dead Man Walking', 'Across the Sea of Time', 'It Takes Two',\n",
       "       'Clueless', 'Cry, the Beloved Country', 'Richard III',\n",
       "       'Dead Presidents', 'Restoration', 'Mortal Kombat', 'To Die For',\n",
       "       'How to Make an American Quilt', 'Seven (Se7en)', 'Pocahontas',\n",
       "       'When Night Is Falling', 'Usual Suspects, The'], dtype=object)"
      ]
     },
     "execution_count": 102,
     "metadata": {},
     "output_type": "execute_result"
    }
   ],
   "source": [
    "movielens['item-texts']['title'][:50]"
   ]
  },
  {
   "cell_type": "markdown",
   "metadata": {},
   "source": [
    "# dgl.DGLHeteroGraph \n",
    "* https://docs.dgl.ai/en/0.4.x/api/python/heterograph.html \n",
    "* https://docs.dgl.ai/en/0.4.x/tutorials/basics/5_hetero.html"
   ]
  },
  {
   "cell_type": "markdown",
   "metadata": {},
   "source": [
    "## train-graph\n",
    "* `(srctype, edgetype, dsttype)`"
   ]
  },
  {
   "cell_type": "code",
   "execution_count": 98,
   "metadata": {},
   "outputs": [
    {
     "name": "stdout",
     "output_type": "stream",
     "text": [
      "<class 'dgl.heterograph.DGLHeteroGraph'>\n"
     ]
    }
   ],
   "source": [
    "print(type(movielens[\"train-graph\"]))"
   ]
  },
  {
   "cell_type": "code",
   "execution_count": 12,
   "metadata": {},
   "outputs": [
    {
     "data": {
      "text/plain": [
       "Graph(num_nodes={'movie': 3706, 'user': 6040},\n",
       "      num_edges={('movie', 'watched-by', 'user'): 988129, ('user', 'watched', 'movie'): 988129},\n",
       "      metagraph=[('movie', 'user', 'watched-by'), ('user', 'movie', 'watched')])"
      ]
     },
     "execution_count": 12,
     "metadata": {},
     "output_type": "execute_result"
    }
   ],
   "source": [
    "movielens[\"train-graph\"]"
   ]
  },
  {
   "cell_type": "code",
   "execution_count": 33,
   "metadata": {},
   "outputs": [
    {
     "data": {
      "text/plain": [
       "9746"
      ]
     },
     "execution_count": 33,
     "metadata": {},
     "output_type": "execute_result"
    }
   ],
   "source": [
    "movielens[\"train-graph\"].number_of_nodes()"
   ]
  },
  {
   "cell_type": "code",
   "execution_count": 34,
   "metadata": {},
   "outputs": [
    {
     "data": {
      "text/plain": [
       "1976258"
      ]
     },
     "execution_count": 34,
     "metadata": {},
     "output_type": "execute_result"
    }
   ],
   "source": [
    "movielens[\"train-graph\"].number_of_edges()"
   ]
  },
  {
   "cell_type": "code",
   "execution_count": 56,
   "metadata": {},
   "outputs": [
    {
     "data": {
      "text/plain": [
       "tensor([   0,    1,    2,  ..., 6037, 6038, 6039])"
      ]
     },
     "execution_count": 56,
     "metadata": {},
     "output_type": "execute_result"
    }
   ],
   "source": [
    "movielens[\"train-graph\"].nodes('user')"
   ]
  },
  {
   "cell_type": "code",
   "execution_count": 57,
   "metadata": {},
   "outputs": [
    {
     "data": {
      "text/plain": [
       "tensor([   0,    1,    2,  ..., 3703, 3704, 3705])"
      ]
     },
     "execution_count": 57,
     "metadata": {},
     "output_type": "execute_result"
    }
   ],
   "source": [
    "movielens[\"train-graph\"].nodes('movie')"
   ]
  },
  {
   "cell_type": "code",
   "execution_count": 65,
   "metadata": {},
   "outputs": [
    {
     "name": "stdout",
     "output_type": "stream",
     "text": [
      "node type :  ['movie', 'user']\n",
      "edge type :  ['watched-by', 'watched']\n"
     ]
    }
   ],
   "source": [
    "print(\"node type : \", movielens[\"train-graph\"].ntypes)\n",
    "print(\"edge type : \", movielens[\"train-graph\"].etypes)"
   ]
  },
  {
   "cell_type": "code",
   "execution_count": 66,
   "metadata": {},
   "outputs": [
    {
     "name": "stdout",
     "output_type": "stream",
     "text": [
      "#Users :  6040\n",
      "#Movies :  3706\n"
     ]
    }
   ],
   "source": [
    "print(\"#Users : \", movielens[\"train-graph\"].number_of_nodes('user'))\n",
    "print(\"#Movies : \", movielens[\"train-graph\"].number_of_nodes('movie'))"
   ]
  },
  {
   "cell_type": "code",
   "execution_count": 67,
   "metadata": {},
   "outputs": [
    {
     "name": "stdout",
     "output_type": "stream",
     "text": [
      "tensor([1259, 2853, 1414,  626, 2013,  627, 2078, 2426, 1031, 2708, 3235, 1120,\n",
      "        1623, 1550, 1123, 3341, 2674, 2816, 1127, 2889,  420, 1945, 2891, 2892,\n",
      "        2821, 1161, 1478,  283, 2046, 2856,  841,  358, 1167, 2931, 1201, 1099,\n",
      "        3031, 3032, 3033,  106, 2086, 2296, 1656, 3238,  575, 1553, 3412, 2645,\n",
      "        1765,  920, 1693, 2651, 1135, 1848,  501,  428, 2120,  258, 1306, 1012,\n",
      "        3457,  466, 1337, 1886, 1173, 1271, 1104, 1631, 1273, 2160, 3107, 2234,\n",
      "         576, 1106, 1428,  702, 1108,  579, 2166,   92, 2512, 2374, 2203, 3493,\n",
      "        1773, 1466, 3566, 1774, 1775,  228, 1047, 1777,  157,   20,  159, 2128,\n",
      "        1018,  370, 2307,  339,  443, 1024,  859,  445, 1406, 3186, 1286, 3219,\n",
      "        2879,  737,  484, 2523, 1822, 1782, 1618, 2735, 1826,  309, 1117, 1788,\n",
      "        3436, 1152,  346, 1153, 1154, 3647, 1155])\n"
     ]
    }
   ],
   "source": [
    "# User 1 이 본 영화 \n",
    "print(movielens[\"train-graph\"].successors(1, etype='watched'))"
   ]
  },
  {
   "cell_type": "code",
   "execution_count": 69,
   "metadata": {},
   "outputs": [
    {
     "name": "stdout",
     "output_type": "stream",
     "text": [
      "tensor([   1,    7,    9,   17,   32,   52,   58,   68,  110,  130,  145,  150,\n",
      "         174,  186,  191,  194,  197,  200,  207,  211,  215,  224,  244,  258,\n",
      "         280,  286,  292,  318,  330,  332,  338,  346,  356,  377,  391,  411,\n",
      "         414,  429,  481,  492,  508,  517,  523,  527,  540,  548,  549,  550,\n",
      "         557,  586,  587,  589,  592,  593,  624,  653,  654,  655,  659,  672,\n",
      "         675,  710,  720,  723,  727,  730,  751,  753,  801,  816,  821,  823,\n",
      "         838,  853,  888,  890,  896,  898,  923,  927,  941,  942,  944,  954,\n",
      "         962,  964,  969,  972,  974,  976, 1000, 1009, 1014, 1049, 1050, 1058,\n",
      "        1068, 1087, 1095, 1098, 1102, 1111, 1116, 1118, 1119, 1120, 1124, 1127,\n",
      "        1149, 1157, 1163, 1169, 1193, 1202, 1210, 1217, 1226, 1240, 1241, 1243,\n",
      "        1245, 1251, 1254, 1263, 1265, 1270, 1272, 1278, 1283, 1287, 1295, 1297,\n",
      "        1300, 1314, 1330, 1339, 1350, 1353, 1374, 1382, 1386, 1390, 1395, 1419,\n",
      "        1421, 1439, 1446, 1448, 1454, 1464, 1474, 1529, 1545, 1570, 1578, 1584,\n",
      "        1598, 1604, 1606, 1608, 1625, 1627, 1669, 1670, 1679, 1692, 1700, 1711,\n",
      "        1740, 1751, 1766, 1777, 1792, 1834, 1836, 1841, 1879, 1882, 1893, 1898,\n",
      "        1907, 1911, 1912, 1920, 1921, 1923, 1925, 1938, 1967, 1968, 1973, 1979,\n",
      "        1987, 2017, 2019, 2049, 2083, 2101, 2104, 2152, 2160, 2176, 2177, 2180,\n",
      "        2210, 2213, 2218, 2222, 2229, 2231, 2241, 2243, 2260, 2263, 2265, 2275,\n",
      "        2302, 2303, 2308, 2322, 2367, 2375, 2379, 2388, 2413, 2452, 2484, 2491,\n",
      "        2502, 2522, 2536, 2543, 2571, 2580, 2607, 2610, 2616, 2623, 2627, 2633,\n",
      "        2640, 2658, 2667, 2669, 2684, 2699, 2717, 2722, 2723, 2736, 2752, 2763,\n",
      "        2775, 2783, 2792, 2803, 2823, 2824, 2848, 2859, 2869, 2871, 2881, 2886,\n",
      "        2894, 2928, 2965, 2977, 2979, 2989, 2996, 3016, 3028, 3030, 3034, 3036,\n",
      "        3048, 3053, 3056, 3087, 3107, 3126, 3127, 3134, 3139, 3181, 3204, 3209,\n",
      "        3215, 3216, 3223, 3260, 3270, 3283, 3284, 3300, 3309, 3310, 3311, 3312,\n",
      "        3319, 3329, 3358, 3363, 3370, 3379, 3388, 3390, 3409, 3427, 3429, 3440,\n",
      "        3452, 3461, 3463, 3470, 3472, 3473, 3479, 3480, 3486, 3489, 3506, 3531,\n",
      "        3538, 3549, 3559, 3584, 3585, 3587, 3617, 3619, 3649, 3663, 3674, 3685,\n",
      "        3687, 3692, 3694, 3703, 3719, 3720, 3728, 3740, 3750, 3751, 3769, 3773,\n",
      "        3778, 3780, 3785, 3790, 3791, 3820, 3829, 3833, 3863, 3877, 3881, 3886,\n",
      "        3939, 3944, 3945, 3962, 3966, 3975, 3980, 3981, 3994, 4006, 4015, 4032,\n",
      "        4033, 4061, 4063, 4087, 4115, 4138, 4139, 4148, 4167, 4168, 4234, 4273,\n",
      "        4276, 4280, 4325, 4343, 4355, 4378, 4380, 4386, 4387, 4410, 4424, 4429,\n",
      "        4443, 4448, 4458, 4467, 4484, 4505, 4536, 4542, 4552, 4577, 4592, 4601,\n",
      "        4604, 4606, 4610, 4614, 4618, 4642, 4646, 4652, 4688, 4725, 4727, 4728,\n",
      "        4735, 4770, 4778, 4783, 4784, 4788, 4792, 4801, 4808, 4815, 4822, 4823,\n",
      "        4839, 4844, 4860, 4886, 4889, 4932, 4936, 4945, 4947, 4951, 4956, 4962,\n",
      "        4979, 4980, 4994, 5014, 5030, 5041, 5043, 5049, 5053, 5073, 5076, 5081,\n",
      "        5089, 5106, 5107, 5110, 5138, 5155, 5162, 5183, 5193, 5219, 5235, 5240,\n",
      "        5249, 5255, 5266, 5272, 5304, 5305, 5318, 5320, 5328, 5334, 5339, 5343,\n",
      "        5348, 5366, 5370, 5386, 5392, 5393, 5432, 5433, 5442, 5449, 5457, 5481,\n",
      "        5482, 5490, 5492, 5510, 5521, 5535, 5546, 5556, 5603, 5604, 5622, 5626,\n",
      "        5635, 5638, 5642, 5652, 5688, 5733, 5762, 5767, 5784, 5791, 5794, 5810,\n",
      "        5811, 5825, 5830, 5837, 5842, 5847, 5851, 5852, 5877, 5885, 5886, 5887,\n",
      "        5909, 5914, 5926, 5945, 5955, 5965, 5985, 6002, 6008, 6018, 6024, 6035])\n"
     ]
    }
   ],
   "source": [
    "# 1259 를 본 사람들 \n",
    "print(movielens[\"train-graph\"].successors(1259, etype='watched-by'))"
   ]
  },
  {
   "cell_type": "code",
   "execution_count": 86,
   "metadata": {},
   "outputs": [],
   "source": [
    "# Draw the metagraph using graphviz.\n",
    "import pygraphviz as pgv\n",
    "def plot_graph(nxg):\n",
    "    ag = pgv.AGraph(strict=False, directed=True)\n",
    "    for u, v, k in nxg.edges(keys=True):\n",
    "        ag.add_edge(u, v, label=k)\n",
    "    ag.layout('dot')\n",
    "    ag.draw('graph.png')"
   ]
  },
  {
   "cell_type": "code",
   "execution_count": 87,
   "metadata": {},
   "outputs": [
    {
     "ename": "AttributeError",
     "evalue": "'function' object has no attribute 'edges'",
     "output_type": "error",
     "traceback": [
      "\u001b[0;31m---------------------------------------------------------------------------\u001b[0m",
      "\u001b[0;31mAttributeError\u001b[0m                            Traceback (most recent call last)",
      "\u001b[0;32m<ipython-input-87-2ee8ce1f98c4>\u001b[0m in \u001b[0;36m<module>\u001b[0;34m\u001b[0m\n\u001b[0;32m----> 1\u001b[0;31m \u001b[0mplot_graph\u001b[0m\u001b[0;34m(\u001b[0m\u001b[0mmovielens\u001b[0m\u001b[0;34m[\u001b[0m\u001b[0;34m\"train-graph\"\u001b[0m\u001b[0;34m]\u001b[0m\u001b[0;34m.\u001b[0m\u001b[0mmetagraph\u001b[0m\u001b[0;34m)\u001b[0m\u001b[0;34m\u001b[0m\u001b[0;34m\u001b[0m\u001b[0m\n\u001b[0m",
      "\u001b[0;32m<ipython-input-86-82d7a589a4a6>\u001b[0m in \u001b[0;36mplot_graph\u001b[0;34m(nxg)\u001b[0m\n\u001b[1;32m      3\u001b[0m \u001b[0;32mdef\u001b[0m \u001b[0mplot_graph\u001b[0m\u001b[0;34m(\u001b[0m\u001b[0mnxg\u001b[0m\u001b[0;34m)\u001b[0m\u001b[0;34m:\u001b[0m\u001b[0;34m\u001b[0m\u001b[0;34m\u001b[0m\u001b[0m\n\u001b[1;32m      4\u001b[0m     \u001b[0mag\u001b[0m \u001b[0;34m=\u001b[0m \u001b[0mpgv\u001b[0m\u001b[0;34m.\u001b[0m\u001b[0mAGraph\u001b[0m\u001b[0;34m(\u001b[0m\u001b[0mstrict\u001b[0m\u001b[0;34m=\u001b[0m\u001b[0;32mFalse\u001b[0m\u001b[0;34m,\u001b[0m \u001b[0mdirected\u001b[0m\u001b[0;34m=\u001b[0m\u001b[0;32mTrue\u001b[0m\u001b[0;34m)\u001b[0m\u001b[0;34m\u001b[0m\u001b[0;34m\u001b[0m\u001b[0m\n\u001b[0;32m----> 5\u001b[0;31m     \u001b[0;32mfor\u001b[0m \u001b[0mu\u001b[0m\u001b[0;34m,\u001b[0m \u001b[0mv\u001b[0m\u001b[0;34m,\u001b[0m \u001b[0mk\u001b[0m \u001b[0;32min\u001b[0m \u001b[0mnxg\u001b[0m\u001b[0;34m.\u001b[0m\u001b[0medges\u001b[0m\u001b[0;34m(\u001b[0m\u001b[0mkeys\u001b[0m\u001b[0;34m=\u001b[0m\u001b[0;32mTrue\u001b[0m\u001b[0;34m)\u001b[0m\u001b[0;34m:\u001b[0m\u001b[0;34m\u001b[0m\u001b[0;34m\u001b[0m\u001b[0m\n\u001b[0m\u001b[1;32m      6\u001b[0m         \u001b[0mag\u001b[0m\u001b[0;34m.\u001b[0m\u001b[0madd_edge\u001b[0m\u001b[0;34m(\u001b[0m\u001b[0mu\u001b[0m\u001b[0;34m,\u001b[0m \u001b[0mv\u001b[0m\u001b[0;34m,\u001b[0m \u001b[0mlabel\u001b[0m\u001b[0;34m=\u001b[0m\u001b[0mk\u001b[0m\u001b[0;34m)\u001b[0m\u001b[0;34m\u001b[0m\u001b[0;34m\u001b[0m\u001b[0m\n\u001b[1;32m      7\u001b[0m     \u001b[0mag\u001b[0m\u001b[0;34m.\u001b[0m\u001b[0mlayout\u001b[0m\u001b[0;34m(\u001b[0m\u001b[0;34m'dot'\u001b[0m\u001b[0;34m)\u001b[0m\u001b[0;34m\u001b[0m\u001b[0;34m\u001b[0m\u001b[0m\n",
      "\u001b[0;31mAttributeError\u001b[0m: 'function' object has no attribute 'edges'"
     ]
    }
   ],
   "source": [
    "plot_graph(movielens[\"train-graph\"].metagraph)"
   ]
  },
  {
   "cell_type": "code",
   "execution_count": 94,
   "metadata": {},
   "outputs": [
    {
     "data": {
      "text/plain": [
       "<bound method DGLHeteroGraph.metagraph of Graph(num_nodes={'movie': 3706, 'user': 6040},\n",
       "      num_edges={('movie', 'watched-by', 'user'): 988129, ('user', 'watched', 'movie'): 988129},\n",
       "      metagraph=[('movie', 'user', 'watched-by'), ('user', 'movie', 'watched')])>"
      ]
     },
     "execution_count": 94,
     "metadata": {},
     "output_type": "execute_result"
    }
   ],
   "source": [
    "movielens[\"train-graph\"].metagraph"
   ]
  },
  {
   "cell_type": "markdown",
   "metadata": {},
   "source": [
    "## val-matrix"
   ]
  },
  {
   "cell_type": "code",
   "execution_count": 51,
   "metadata": {},
   "outputs": [
    {
     "name": "stdout",
     "output_type": "stream",
     "text": [
      "  (0, 1439)\t1\n",
      "  (1, 1420)\t1\n",
      "  (2, 101)\t1\n",
      "  (3, 2743)\t1\n",
      "  (4, 1371)\t1\n",
      "  (5, 1441)\t1\n",
      "  (6, 1575)\t1\n",
      "  (7, 704)\t1\n",
      "  (8, 2102)\t1\n",
      "  (9, 2489)\t1\n",
      "  (10, 1895)\t1\n",
      "  (11, 1160)\t1\n",
      "  (12, 1873)\t1\n",
      "  (13, 2526)\t1\n",
      "  (14, 3512)\t1\n",
      "  (15, 2496)\t1\n",
      "  (16, 1470)\t1\n",
      "  (17, 259)\t1\n",
      "  (18, 309)\t1\n",
      "  (19, 1148)\t1\n",
      "  (20, 582)\t1\n",
      "  (21, 847)\t1\n",
      "  (22, 1938)\t1\n",
      "  (23, 1779)\t1\n",
      "  (24, 3503)\t1\n",
      "  :\t:\n",
      "  (6015, 3520)\t1\n",
      "  (6016, 2699)\t1\n",
      "  (6017, 532)\t1\n",
      "  (6018, 784)\t1\n",
      "  (6019, 2708)\t1\n",
      "  (6020, 1696)\t1\n",
      "  (6021, 466)\t1\n",
      "  (6022, 724)\t1\n",
      "  (6023, 1927)\t1\n",
      "  (6024, 525)\t1\n",
      "  (6025, 513)\t1\n",
      "  (6026, 1398)\t1\n",
      "  (6027, 2773)\t1\n",
      "  (6028, 2624)\t1\n",
      "  (6029, 651)\t1\n",
      "  (6030, 354)\t1\n",
      "  (6031, 1906)\t1\n",
      "  (6032, 283)\t1\n",
      "  (6033, 881)\t1\n",
      "  (6034, 1583)\t1\n",
      "  (6035, 2602)\t1\n",
      "  (6036, 907)\t1\n",
      "  (6037, 2495)\t1\n",
      "  (6038, 861)\t1\n",
      "  (6039, 155)\t1\n"
     ]
    }
   ],
   "source": [
    "print(movielens['val-matrix'].tocsr())"
   ]
  },
  {
   "cell_type": "code",
   "execution_count": 53,
   "metadata": {},
   "outputs": [
    {
     "data": {
      "text/plain": [
       "(6040, 3706)"
      ]
     },
     "execution_count": 53,
     "metadata": {},
     "output_type": "execute_result"
    }
   ],
   "source": [
    "movielens['val-matrix'].tocsr().shape"
   ]
  },
  {
   "cell_type": "code",
   "execution_count": 62,
   "metadata": {},
   "outputs": [
    {
     "name": "stdout",
     "output_type": "stream",
     "text": [
      "<class 'scipy.sparse.coo.coo_matrix'>\n",
      "#Users: 6040\n",
      "#Movies: 3706\n",
      "#Links: 6040\n"
     ]
    }
   ],
   "source": [
    "print(type(movielens['val-matrix']))\n",
    "print('#Users:', movielens['val-matrix'].shape[0])\n",
    "print('#Movies:', movielens['val-matrix'].shape[1])\n",
    "print('#Links:', movielens['val-matrix'].nnz)"
   ]
  },
  {
   "cell_type": "code",
   "execution_count": 63,
   "metadata": {},
   "outputs": [
    {
     "name": "stdout",
     "output_type": "stream",
     "text": [
      "<class 'scipy.sparse.coo.coo_matrix'>\n",
      "#Users: 6040\n",
      "#Movies: 3706\n",
      "#Links: 6040\n"
     ]
    }
   ],
   "source": [
    "print(type(movielens['test-matrix']))\n",
    "print('#Users:', movielens['test-matrix'].shape[0])\n",
    "print('#Movies:', movielens['test-matrix'].shape[1])\n",
    "print('#Links:', movielens['test-matrix'].nnz)"
   ]
  },
  {
   "cell_type": "code",
   "execution_count": 103,
   "metadata": {},
   "outputs": [
    {
     "name": "stdout",
     "output_type": "stream",
     "text": [
      "Collecting dgl==0.5.2\n",
      "  Downloading dgl-0.5.2-cp38-cp38-macosx_10_9_x86_64.whl (3.6 MB)\n",
      "\u001b[K     |████████████████████████████████| 3.6 MB 745 kB/s eta 0:00:01\n",
      "\u001b[?25hRequirement already satisfied, skipping upgrade: scipy>=1.1.0 in /Users/jbeen/anaconda3/lib/python3.8/site-packages (from dgl==0.5.2) (1.5.0)\n",
      "Requirement already satisfied, skipping upgrade: networkx>=2.1 in /Users/jbeen/anaconda3/lib/python3.8/site-packages (from dgl==0.5.2) (2.4)\n",
      "Requirement already satisfied, skipping upgrade: requests>=2.19.0 in /Users/jbeen/anaconda3/lib/python3.8/site-packages (from dgl==0.5.2) (2.24.0)\n",
      "Requirement already satisfied, skipping upgrade: numpy>=1.14.0 in /Users/jbeen/anaconda3/lib/python3.8/site-packages (from dgl==0.5.2) (1.16.1)\n",
      "Requirement already satisfied, skipping upgrade: decorator>=4.3.0 in /Users/jbeen/anaconda3/lib/python3.8/site-packages (from networkx>=2.1->dgl==0.5.2) (4.4.2)\n",
      "Requirement already satisfied, skipping upgrade: chardet<4,>=3.0.2 in /Users/jbeen/anaconda3/lib/python3.8/site-packages (from requests>=2.19.0->dgl==0.5.2) (3.0.4)\n",
      "Requirement already satisfied, skipping upgrade: idna<3,>=2.5 in /Users/jbeen/anaconda3/lib/python3.8/site-packages (from requests>=2.19.0->dgl==0.5.2) (2.10)\n",
      "Requirement already satisfied, skipping upgrade: certifi>=2017.4.17 in /Users/jbeen/anaconda3/lib/python3.8/site-packages (from requests>=2.19.0->dgl==0.5.2) (2020.6.20)\n",
      "Requirement already satisfied, skipping upgrade: urllib3!=1.25.0,!=1.25.1,<1.26,>=1.21.1 in /Users/jbeen/anaconda3/lib/python3.8/site-packages (from requests>=2.19.0->dgl==0.5.2) (1.25.9)\n",
      "Installing collected packages: dgl\n",
      "  Attempting uninstall: dgl\n",
      "    Found existing installation: dgl 0.6.1\n",
      "    Uninstalling dgl-0.6.1:\n",
      "      Successfully uninstalled dgl-0.6.1\n",
      "Successfully installed dgl-0.5.2\n"
     ]
    }
   ],
   "source": [
    "!pip install --upgrade dgl==0.5.2"
   ]
  },
  {
   "cell_type": "code",
   "execution_count": 105,
   "metadata": {},
   "outputs": [
    {
     "name": "stdout",
     "output_type": "stream",
     "text": [
      "Using backend: pytorch\n",
      "100%|█████████████████████████████████████| 20000/20000 [12:10<00:00, 27.38it/s]\n",
      "0.05662251655629139\n"
     ]
    }
   ],
   "source": [
    "# Nearest neighbor recommendation \n",
    "!python model.py data.pkl --num-epochs 1 --num-workers 0 --hidden-dims 64"
   ]
  },
  {
   "cell_type": "code",
   "execution_count": null,
   "metadata": {},
   "outputs": [],
   "source": []
  }
 ],
 "metadata": {
  "kernelspec": {
   "display_name": "Python 3",
   "language": "python",
   "name": "python3"
  },
  "language_info": {
   "codemirror_mode": {
    "name": "ipython",
    "version": 3
   },
   "file_extension": ".py",
   "mimetype": "text/x-python",
   "name": "python",
   "nbconvert_exporter": "python",
   "pygments_lexer": "ipython3",
   "version": "3.8.3"
  }
 },
 "nbformat": 4,
 "nbformat_minor": 4
}
