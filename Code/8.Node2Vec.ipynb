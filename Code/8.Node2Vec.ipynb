{
 "cells": [
  {
   "cell_type": "markdown",
   "metadata": {
    "Collapsed": "false"
   },
   "source": [
    "# Code 8. Node2Vec"
   ]
  },
  {
   "cell_type": "markdown",
   "metadata": {
    "Collapsed": "false"
   },
   "source": [
    "본 실습에서는 random walk 기반 network embedding 방법 중 하나인 node2vec 알고리즘을 사용하여 clustering, node classification과 같은 여러 downstream task들을 수행해봅니다"
   ]
  },
  {
   "cell_type": "markdown",
   "metadata": {
    "Collapsed": "false"
   },
   "source": [
    "## Clustering with Node2Vec"
   ]
  },
  {
   "cell_type": "code",
   "execution_count": 77,
   "metadata": {
    "Collapsed": "false"
   },
   "outputs": [],
   "source": [
    "import os\n",
    "import sys\n",
    "\n",
    "import time\n",
    "\n",
    "import numpy as np\n",
    "import matplotlib.pyplot as plt\n",
    "np.set_printoptions(threshold=sys.maxsize) # 배열 생략없이 전체 출력\n",
    "\n",
    "import networkx as nx\n",
    "from node2vec import Node2Vec"
   ]
  },
  {
   "cell_type": "markdown",
   "metadata": {
    "Collapsed": "false"
   },
   "source": [
    "**Dataset Description**\n",
    "\n",
    "[Reference]\n",
    "- title : The Network Data Repository with Interactive Graph Analytics and Visualization\n",
    "- author : Ryan A. Rossi and Nesreen K. Ahmed\n",
    "- booktitle : AAAI\n",
    "- url : http://networkrepository.com\n",
    "- year : 2015\n",
    "- lesmis.mtx : < node 1 > < node 2 > < weight >\n",
    "- weight : 레미제라블에 동시에 등장한 등장인물의 횟수"
   ]
  },
  {
   "cell_type": "code",
   "execution_count": 16,
   "metadata": {
    "Collapsed": "false"
   },
   "outputs": [],
   "source": [
    "##### Weighted Graph Generation #####\n",
    "\n",
    "PATH = os.path.join('graph', 'lab', 'lab7', 'lesmis.mtx')\n",
    "weighted_edgelist = []\n",
    "\n",
    "with open(PATH, 'r') as f:\n",
    "    for line in f:\n",
    "        l = line.strip().split()\n",
    "        if l[0].isdigit() == False:\n",
    "            continue\n",
    "        value = [str(int(l[0]) - 1), str(int(l[1]) - 1), float(l[2])]\n",
    "        weighted_edgelist.append(value)"
   ]
  },
  {
   "cell_type": "code",
   "execution_count": 17,
   "metadata": {
    "Collapsed": "false"
   },
   "outputs": [
    {
     "data": {
      "text/plain": [
       "[['76', '76', 254.0],\n",
       " ['1', '0', 1.0],\n",
       " ['2', '0', 8.0],\n",
       " ['3', '0', 10.0],\n",
       " ['4', '0', 1.0]]"
      ]
     },
     "execution_count": 17,
     "metadata": {},
     "output_type": "execute_result"
    }
   ],
   "source": [
    "# <node1> <node2> <weight>\n",
    "weighted_edgelist[:5]"
   ]
  },
  {
   "cell_type": "code",
   "execution_count": 18,
   "metadata": {
    "Collapsed": "false"
   },
   "outputs": [],
   "source": [
    "G = nx.Graph()\n",
    "G.add_weighted_edges_from(weighted_edgelist)"
   ]
  },
  {
   "cell_type": "code",
   "execution_count": 19,
   "metadata": {
    "Collapsed": "false"
   },
   "outputs": [
    {
     "data": {
      "application/vnd.jupyter.widget-view+json": {
       "model_id": "4808b082da9946d2abfc931b777c1bf9",
       "version_major": 2,
       "version_minor": 0
      },
      "text/plain": [
       "HBox(children=(FloatProgress(value=0.0, description='Computing transition probabilities', max=77.0, style=Prog…"
      ]
     },
     "metadata": {},
     "output_type": "display_data"
    },
    {
     "name": "stdout",
     "output_type": "stream",
     "text": [
      "\n"
     ]
    }
   ],
   "source": [
    "# edge 별 확률 계산(p, q에 따른 edge별 확률 계산) & random walk 생성 \n",
    "node2vec = Node2Vec(G,\n",
    "                    dimensions = 16,\n",
    "                    walk_length = 4,\n",
    "                    num_walks = 200,\n",
    "                    workers = 4)  # p = 1, q = 1 as default\n",
    "\n",
    "# node embedding 구하기\n",
    "model = node2vec.fit(window = 2,\n",
    "                     min_count = 1,\n",
    "                     batch_words = 4)"
   ]
  },
  {
   "cell_type": "code",
   "execution_count": 20,
   "metadata": {
    "Collapsed": "false"
   },
   "outputs": [
    {
     "name": "stdout",
     "output_type": "stream",
     "text": [
      "#### Embedding Vector of Node 2 ####\n",
      "[-1.1988872   0.31206182  1.1899599  -0.19716637 -1.0528653  -0.59335893\n",
      "  0.291047   -0.9353457   0.08533825 -0.77164805  0.2999279  -0.7435817\n",
      "  0.7809991   0.1572596   1.2408333   0.0569208 ]\n"
     ]
    }
   ],
   "source": [
    "print(\"#### Embedding Vector of Node 2 ####\")\n",
    "print(model.wv['2'])"
   ]
  },
  {
   "cell_type": "code",
   "execution_count": 21,
   "metadata": {
    "Collapsed": "false"
   },
   "outputs": [
    {
     "name": "stdout",
     "output_type": "stream",
     "text": [
      "#### Most Similar Nodes to Node 2\n"
     ]
    },
    {
     "data": {
      "text/plain": [
       "[('3', 0.9973995089530945),\n",
       " ('9', 0.9940451383590698),\n",
       " ('6', 0.993704080581665),\n",
       " ('1', 0.9926365613937378),\n",
       " ('5', 0.9918239116668701),\n",
       " ('7', 0.9913436770439148),\n",
       " ('8', 0.9900851249694824),\n",
       " ('4', 0.989838719367981),\n",
       " ('0', 0.9651244878768921),\n",
       " ('13', 0.6812950372695923)]"
      ]
     },
     "execution_count": 21,
     "metadata": {},
     "output_type": "execute_result"
    }
   ],
   "source": [
    "##### Node 2와 가장 유사한 10개의 node를 출력 #####\n",
    "print(\"#### Most Similar Nodes to Node 2\")\n",
    "model.wv.most_similar('2')  "
   ]
  },
  {
   "cell_type": "code",
   "execution_count": 22,
   "metadata": {
    "Collapsed": "false"
   },
   "outputs": [],
   "source": [
    "# clustering\n",
    "from sklearn.cluster import KMeans"
   ]
  },
  {
   "cell_type": "code",
   "execution_count": 50,
   "metadata": {
    "Collapsed": "false"
   },
   "outputs": [],
   "source": [
    "# KMeans 군집화를 하기 위해 node별 embedding 값을 array로 변환해준다 \n",
    "# 노드 번호에 해당하는 index에 embedding 값을 저장\n",
    "# 즉 노드 번호 순서대로 벡터가 표현되어 있는 상태\n",
    "vectors_array = np.zeros((len(G.nodes), 16))\n",
    "\n",
    "for node in G.nodes:\n",
    "    vectors_array[int(node)] = model.wv[node]"
   ]
  },
  {
   "cell_type": "code",
   "execution_count": 71,
   "metadata": {
    "Collapsed": "false"
   },
   "outputs": [
    {
     "data": {
      "text/plain": [
       "array([-1.07840133,  0.34642863,  1.1620729 , -0.10566602, -0.92564684,\n",
       "       -0.50446886,  0.3083128 , -0.82756674,  0.02864659, -0.51738548,\n",
       "        0.33592972, -0.51192021,  0.58789355,  0.17910725,  1.16337252,\n",
       "        0.11821021])"
      ]
     },
     "execution_count": 71,
     "metadata": {},
     "output_type": "execute_result"
    }
   ],
   "source": [
    "# 노드 1의 벡터\n",
    "vectors_array[1]"
   ]
  },
  {
   "cell_type": "code",
   "execution_count": 72,
   "metadata": {
    "Collapsed": "false"
   },
   "outputs": [],
   "source": [
    "# Kmeans\n",
    "kmeans = KMeans(n_clusters = 5, random_state = 0).fit(vectors_array)"
   ]
  },
  {
   "cell_type": "code",
   "execution_count": 74,
   "metadata": {
    "Collapsed": "false"
   },
   "outputs": [
    {
     "data": {
      "image/png": "[encoded data removed]",
      "text/plain": [
       "<Figure size 504x504 with 1 Axes>"
      ]
     },
     "metadata": {},
     "output_type": "display_data"
    }
   ],
   "source": [
    "# 그래프 시각화 - 각 클러스터별 색상 표현\n",
    "\n",
    "cluster_color = ['red', 'yellow', 'blue', 'green', 'orange']\n",
    "\n",
    "pos = nx.spring_layout(G)\n",
    "node_color = []\n",
    "node_degree = []\n",
    "\n",
    "for node in G.nodes:\n",
    "    node_degree.append(G.degree[node] * 10)\n",
    "    i = int(node)\n",
    "    \n",
    "    label = kmeans.labels_[i]\n",
    "    node_color.append(cluster_color[label])\n",
    "\n",
    "plt.figure(figsize = (7,7))\n",
    "img = nx.draw_networkx_nodes(G, pos, node_color = node_color, node_size=node_degree)\n",
    "nx.draw_networkx_edges(G, pos)\n",
    "plt.show()"
   ]
  },
  {
   "cell_type": "markdown",
   "metadata": {
    "Collapsed": "false"
   },
   "source": [
    "## Node Classification"
   ]
  },
  {
   "cell_type": "markdown",
   "metadata": {
    "Collapsed": "false"
   },
   "source": [
    "**Dataset Description**\n",
    "\n",
    "- cora.content : < paper_id > < word_attributes > < class_name >\n",
    "- cora.cites : < ID of cited paper > < ID of citing paper >"
   ]
  },
  {
   "cell_type": "code",
   "execution_count": 110,
   "metadata": {
    "Collapsed": "false"
   },
   "outputs": [],
   "source": [
    "# Directed Graph Generation \n",
    "# 메모리 활용을 위해 node class는 숫자로 re-labelling하여 사용\n",
    "\n",
    "FILE1_PATH = os.path.join('graph', 'lab', 'lab7', 'cora.content')\n",
    "FILE2_PATH = os.path.join('graph', 'lab', 'lab7', 'cora.cites')\n",
    "\n",
    "node_class = dict() # paper_id - node class\n",
    "edgelist = list()\n",
    "class2num = dict() # node class - class num\n",
    "class_num = 1"
   ]
  },
  {
   "cell_type": "code",
   "execution_count": 112,
   "metadata": {
    "Collapsed": "false"
   },
   "outputs": [],
   "source": [
    "with open(FILE1_PATH, 'r') as f:\n",
    "    for line in f:\n",
    "        value = line.strip().split()\n",
    "        paper, paper_class = value[0], value[-1] # 중간은 word_attributes\n",
    "        \n",
    "        if paper_class not in class2num:\n",
    "            class2num[paper_class] = class_num\n",
    "            class_num += 1\n",
    "        node_class[paper] = class2num[paper_class]\n",
    "        \n",
    "with open(FILE2_PATH, 'r') as f:\n",
    "    for line in f:\n",
    "        dst, src = line.strip().split()\n",
    "        edgelist.append((src, dst))"
   ]
  },
  {
   "cell_type": "code",
   "execution_count": 113,
   "metadata": {
    "Collapsed": "false"
   },
   "outputs": [],
   "source": [
    "G = nx.DiGraph()\n",
    "G.add_edges_from(edgelist)"
   ]
  },
  {
   "cell_type": "code",
   "execution_count": 78,
   "metadata": {
    "Collapsed": "false"
   },
   "outputs": [
    {
     "data": {
      "application/vnd.jupyter.widget-view+json": {
       "model_id": "a94bcba85b704201b4d02394cba9e0dc",
       "version_major": 2,
       "version_minor": 0
      },
      "text/plain": [
       "HBox(children=(FloatProgress(value=0.0, description='Computing transition probabilities', max=2708.0, style=Pr…"
      ]
     },
     "metadata": {},
     "output_type": "display_data"
    },
    {
     "name": "stdout",
     "output_type": "stream",
     "text": [
      "\n",
      "runtime:  139.0888741016388\n"
     ]
    }
   ],
   "source": [
    "start = time.time()\n",
    "##### Node Embedding #####\n",
    "node2vec = Node2Vec(G,\n",
    "                    dimensions = 16,\n",
    "                    walk_length = 4,\n",
    "                    num_walks = 200,\n",
    "                    workers = 4)\n",
    "\n",
    "model = node2vec.fit(window = 10,\n",
    "                     min_count = 1,\n",
    "                     batch_words = 4)\n",
    "\n",
    "end = time.time()\n",
    "\n",
    "print(\"runtime: \", end - start)"
   ]
  },
  {
   "cell_type": "code",
   "execution_count": 118,
   "metadata": {
    "Collapsed": "false"
   },
   "outputs": [],
   "source": [
    "from sklearn.model_selection import train_test_split\n",
    "from sklearn.neural_network import MLPClassifier\n",
    "from sklearn.metrics import mean_squared_error, accuracy_score"
   ]
  },
  {
   "cell_type": "code",
   "execution_count": 126,
   "metadata": {
    "Collapsed": "false"
   },
   "outputs": [
    {
     "data": {
      "text/plain": [
       "array([-1.0633429 ,  1.1043718 , -0.34195194,  0.43980163,  0.8840644 ,\n",
       "       -1.7732619 ,  2.375192  ,  0.1513079 , -0.2759227 ,  0.06895379,\n",
       "       -0.49029022,  0.8067591 ,  1.2157674 ,  1.1605216 ,  2.3746297 ,\n",
       "        0.16105668], dtype=float32)"
      ]
     },
     "execution_count": 126,
     "metadata": {},
     "output_type": "execute_result"
    }
   ],
   "source": [
    "model.wv['31336']"
   ]
  },
  {
   "cell_type": "code",
   "execution_count": 127,
   "metadata": {
    "Collapsed": "false"
   },
   "outputs": [],
   "source": [
    "# X : embedding of a node\n",
    "# y : class label of a node\n",
    "\n",
    "X = []\n",
    "y = []\n",
    "node_name_to_idx = dict()\n",
    "\n",
    "for i, (v, class_) in enumerate(node_class.items()):\n",
    "    node_name_to_idx[v] = i\n",
    "    X.append(model.wv[v])\n",
    "    y.append(class_)\n",
    "    \n",
    "X = np.array(X)\n",
    "y = np.array(y)"
   ]
  },
  {
   "cell_type": "code",
   "execution_count": 128,
   "metadata": {
    "Collapsed": "false"
   },
   "outputs": [
    {
     "name": "stderr",
     "output_type": "stream",
     "text": [
      "/Users/jinseok/opt/anaconda3/lib/python3.7/site-packages/sklearn/neural_network/_multilayer_perceptron.py:585: ConvergenceWarning: Stochastic Optimizer: Maximum iterations (500) reached and the optimization hasn't converged yet.\n",
      "  % self.max_iter, ConvergenceWarning)\n"
     ]
    }
   ],
   "source": [
    "X_train, X_test, y_train, y_test = train_test_split(X, y, shuffle = True)\n",
    "\n",
    "clf = MLPClassifier(max_iter = 500).fit(X_train, y_train)"
   ]
  },
  {
   "cell_type": "code",
   "execution_count": 129,
   "metadata": {
    "Collapsed": "false"
   },
   "outputs": [
    {
     "name": "stdout",
     "output_type": "stream",
     "text": [
      "###### Result of prediction #####\n",
      "Accuracy : 76.22% \n"
     ]
    }
   ],
   "source": [
    "y_predict = clf.predict(X_test)\n",
    "\n",
    "print(\"###### Result of prediction #####\")\n",
    "print(\"Accuracy : {0:05.2f}% \".format(accuracy_score(y_test, y_predict)*100))"
   ]
  },
  {
   "cell_type": "code",
   "execution_count": 130,
   "metadata": {
    "Collapsed": "false"
   },
   "outputs": [
    {
     "name": "stdout",
     "output_type": "stream",
     "text": [
      "########## Comparison of Predicted and Test Results ######\n",
      "--------------------------------------------------\n",
      "예측:  [4 4 1 7 1 2 4 1 1 6 1 4 6 1 1 6 6 4 5 4]\n",
      "실제:  [4 4 4 7 1 2 4 1 1 6 6 1 6 6 1 6 6 4 5 4]\n",
      "--------------------------------------------------\n",
      "예측:  [1 7 7 5 3 4 6 4 1 4 1 1 5 4 1 4 7 6 3 3]\n",
      "실제:  [1 7 2 7 1 4 6 4 4 4 1 1 5 4 1 4 1 5 3 3]\n",
      "--------------------------------------------------\n",
      "예측:  [1 5 7 1 1 1 4 2 4 1 3 4 1 6 1 1 6 6 4 1]\n",
      "실제:  [1 1 7 1 1 1 1 4 4 1 3 1 5 6 1 2 6 6 4 4]\n",
      "--------------------------------------------------\n",
      "예측:  [5 1 6 1 2 1 6 5 5 2 4 5 4 4 6 4 2 2 4 1]\n",
      "실제:  [5 6 6 6 2 1 6 5 5 5 4 5 4 4 6 4 5 5 7 1]\n",
      "--------------------------------------------------\n",
      "예측:  [4 4 6 6 1 7 6 6 4 5 1 5 4 4 1 1 3 6 1 4]\n",
      "실제:  [4 4 6 6 1 7 6 6 4 5 1 1 4 4 4 1 3 1 1 2]\n",
      "--------------------------------------------------\n",
      "예측:  [7 4 3 6 5 2 2 1 1 2 5 1 7 1 6 4 4 4 3 3]\n",
      "실제:  [7 1 3 6 5 2 2 1 1 5 5 1 2 4 6 4 4 4 3 3]\n",
      "--------------------------------------------------\n",
      "예측:  [6 4 6 3 6 6 4 1 3 1 5 7 2 2 6 5 4 5 5 6]\n",
      "실제:  [5 4 6 3 6 6 4 1 1 1 4 7 2 2 6 1 7 1 5 6]\n",
      "--------------------------------------------------\n",
      "예측:  [3 4 5 1 4 4 1 1 5 1 2 6 7 6 6 5 1 1 1 5]\n",
      "실제:  [3 4 5 7 4 4 1 1 4 1 2 6 1 7 6 5 1 1 1 1]\n",
      "--------------------------------------------------\n",
      "예측:  [1 1 5 1 3 4 4 1 6 1 6 6 6 6 1 6 6 1 3 6]\n",
      "실제:  [1 1 5 1 3 4 4 1 6 1 6 6 6 6 5 6 6 3 3 6]\n",
      "--------------------------------------------------\n",
      "예측:  [1 6 4 4 3 5 4 6 3 1 6 1 5 1 4 6 6 5 5 1]\n",
      "실제:  [5 6 4 5 3 5 4 6 1 1 6 1 5 1 4 6 6 5 5 5]\n",
      "--------------------------------------------------\n",
      "예측:  [7 5 3 1 5 4 3 1 1 7 5 1 1 5 5 4 7 1 5 4]\n",
      "실제:  [7 2 3 1 4 4 7 1 1 7 7 1 1 5 5 4 7 1 5 4]\n",
      "--------------------------------------------------\n",
      "예측:  [7 6 1 6 7 2 1 4 2 5 1 6 1 4 1 1 3 1 2 4]\n",
      "실제:  [4 6 3 6 1 2 1 4 5 4 1 6 1 4 1 1 3 1 2 1]\n",
      "--------------------------------------------------\n",
      "예측:  [2 5 4 7 7 2 1 2 1 4 6 1 4 4 1 5 1 1 5 1]\n",
      "실제:  [7 5 6 7 5 7 1 5 1 4 6 1 4 4 1 5 1 1 5 1]\n",
      "--------------------------------------------------\n",
      "예측:  [4 5 7 1 5 1 5 2 1 5 1 1 5 6 2 4 3 5 6 7]\n",
      "실제:  [1 7 3 1 5 1 5 2 1 5 1 1 3 6 6 4 3 5 6 7]\n",
      "--------------------------------------------------\n",
      "예측:  [3 4 1 1 1 6 4 6 2 1 4 1 7 6 5 2 3 4 1 4]\n",
      "실제:  [3 4 4 1 4 6 1 5 5 1 7 1 7 6 5 2 3 4 1 4]\n",
      "--------------------------------------------------\n",
      "예측:  [4 1 1 1 2 6 6 3 1 1 7 6 6 6 1 5 1 2 1 1]\n",
      "실제:  [4 1 1 6 1 6 3 3 1 1 6 6 6 6 1 1 1 5 1 1]\n",
      "--------------------------------------------------\n",
      "예측:  [1 1 5 4 4 5 4 7 7 5 6 6 4 1 7 4 7 5 5 1]\n",
      "실제:  [1 1 1 4 4 5 4 2 7 7 6 6 4 1 7 4 6 5 5 4]\n",
      "--------------------------------------------------\n",
      "예측:  [3 5 1 5 1 6 7 1 1 7 5 3 4 1 6 1 5 7 6 7]\n",
      "실제:  [3 2 1 5 1 6 1 1 1 7 5 3 4 1 6 5 5 7 5 7]\n",
      "--------------------------------------------------\n",
      "예측:  [7 1 5 1 1 3 7 4 5 5 1 6 1 4 7 6 2 6 6 5]\n",
      "실제:  [4 1 4 1 1 3 7 3 5 5 1 1 1 4 7 6 2 6 6 5]\n",
      "--------------------------------------------------\n",
      "예측:  [1 1 5 1 1 1 7 4 4 1 4 5 1 5 7 2 3 1 7 6]\n",
      "실제:  [1 1 2 1 1 1 7 4 4 1 4 1 1 5 5 2 3 1 1 6]\n",
      "--------------------------------------------------\n",
      "예측:  [4 5 1 1 2 1 5 2 6 6 1 4 7 2 1 1 6 4 1 7]\n",
      "실제:  [4 7 1 1 1 4 4 2 6 6 3 4 7 2 1 1 6 1 2 2]\n",
      "--------------------------------------------------\n",
      "예측:  [3 5 5 1 4 6 1 7 6 1 3 5 1 5 4 7 6 5 2 7]\n",
      "실제:  [1 1 1 4 4 6 6 7 1 1 3 2 1 5 4 7 6 5 5 7]\n",
      "--------------------------------------------------\n",
      "예측:  [4 1 1 4 5 1 5 4 5 7 1 4 1 3 7 1 3 4 4 2]\n",
      "실제:  [4 1 7 4 5 7 7 4 5 7 1 3 1 3 7 1 3 4 4 2]\n",
      "--------------------------------------------------\n",
      "예측:  [2 1 1 3 3 1 3 5 1 5 1 4 1 6 4 3 5 2 2 1]\n",
      "실제:  [5 1 1 5 3 5 3 5 1 4 1 4 1 6 4 3 1 2 2 1]\n",
      "--------------------------------------------------\n",
      "예측:  [1 7 4 4 1 2 6 2 1 7 5 2 4 1 6 5 6 6 6 7]\n",
      "실제:  [1 7 7 4 1 2 6 5 1 7 5 2 4 4 7 5 3 6 6 7]\n",
      "--------------------------------------------------\n",
      "예측:  [3 3 6 1 1 1 7 1 1 3 1 1 6 5 7 4 6 7 1 6]\n",
      "실제:  [3 3 6 1 1 1 7 1 1 2 1 1 6 5 5 2 6 7 1 6]\n",
      "--------------------------------------------------\n",
      "예측:  [4 2 7 5 1 1 4 1 5 2 7 2 1 1 5 1 4 5 3 5]\n",
      "실제:  [2 2 7 1 4 1 4 1 5 2 3 2 1 1 5 1 4 5 3 5]\n",
      "--------------------------------------------------\n",
      "예측:  [6 5 5 1 7 6 7 7 1 7 1 5 7 5 6 4 7 1 1 1]\n",
      "실제:  [6 5 1 1 7 6 7 7 1 7 5 5 7 5 3 4 1 1 5 1]\n",
      "--------------------------------------------------\n",
      "예측:  [1 6 1 6 5 5 5 1 5 6 2 4 6 4 4 6 1 3 1 3]\n",
      "실제:  [5 6 1 6 5 1 5 1 5 6 2 4 6 1 4 4 1 3 1 1]\n",
      "--------------------------------------------------\n",
      "예측:  [1 7 1 7 1 4 6 1 1 1 2 1 6 1 1 1 2 6 6 2]\n",
      "실제:  [1 7 1 7 1 4 3 1 1 1 2 1 6 1 1 1 5 6 7 2]\n",
      "--------------------------------------------------\n",
      "예측:  [2 1 3 6 1 7 5 7 4 7 4 4 1 7 5 1 1 6 2 6]\n",
      "실제:  [2 1 3 6 1 7 5 2 4 7 4 3 5 7 5 1 1 6 2 6]\n",
      "--------------------------------------------------\n",
      "예측:  [6 1 4 1 7 4 7 1 7 5 6 1 1 4 2 1 3 4 5 3]\n",
      "실제:  [7 1 1 1 7 4 7 1 7 5 6 1 1 3 2 1 3 4 5 3]\n",
      "--------------------------------------------------\n",
      "예측:  [1 6 7 1 6 2 4 1 5 1 7 5 4 1 5 6 3 6 4 5]\n",
      "실제:  [1 6 5 1 6 2 4 1 3 1 7 5 4 5 4 6 3 6 4 1]\n"
     ]
    }
   ],
   "source": [
    "print(\"########## Comparison of Predicted and Test Results ######\")\n",
    "for i in range(len(y_test)//20):\n",
    "    print('-' * 50)\n",
    "    print(\"예측: \", y_predict[i*20:(i+1)*20])\n",
    "    print(\"실제: \", y_test[i*20:(i+1)*20])"
   ]
  }
 ],
 "metadata": {
  "kernelspec": {
   "display_name": "Python 3",
   "language": "python",
   "name": "python3"
  },
  "language_info": {
   "codemirror_mode": {
    "name": "ipython",
    "version": 3
   },
   "file_extension": ".py",
   "mimetype": "text/x-python",
   "name": "python",
   "nbconvert_exporter": "python",
   "pygments_lexer": "ipython3",
   "version": "3.7.6"
  }
 },
 "nbformat": 4,
 "nbformat_minor": 4
}
