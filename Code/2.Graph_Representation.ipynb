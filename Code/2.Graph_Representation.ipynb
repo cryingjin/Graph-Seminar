{
 "cells": [
  {
   "cell_type": "markdown",
   "metadata": {
    "Collapsed": "false"
   },
   "source": [
    "# Code 2. Graph Representation"
   ]
  },
  {
   "cell_type": "markdown",
   "metadata": {
    "Collapsed": "false"
   },
   "source": [
    "본 실습에서는 그래프를 표현할 수 잇는 다양한 방법에 대해서 배웁니다."
   ]
  },
  {
   "cell_type": "code",
   "execution_count": 4,
   "metadata": {
    "Collapsed": "false"
   },
   "outputs": [],
   "source": [
    "import os\n",
    "import sys\n",
    "\n",
    "import numpy as np\n",
    "np.set_printoptions(threshold=sys.maxsize) # 배열 생략없이 전체 출력\n",
    "\n",
    "import networkx as nx"
   ]
  },
  {
   "cell_type": "code",
   "execution_count": 5,
   "metadata": {
    "Collapsed": "false"
   },
   "outputs": [],
   "source": [
    "G = nx.Graph()\n",
    "DiGraph = nx.DiGraph()"
   ]
  },
  {
   "cell_type": "code",
   "execution_count": 6,
   "metadata": {
    "Collapsed": "false"
   },
   "outputs": [
    {
     "name": "stdout",
     "output_type": "stream",
     "text": [
      "###### Read Graphs ######\n",
      "[(1, 2), (1, 10), (2, 3), (3, 4), (4, 5), (5, 6), (6, 7), (7, 8), (8, 9), (9, 10)]\n"
     ]
    }
   ],
   "source": [
    "# 10개의 node로 이루어진, 원 모양의 그래프 정보 로드\n",
    "# 각 데이터셋은 edge 형태로 저장되어 있습니다.\n",
    "print(\"###### Read Graphs ######\")\n",
    "PATH = os.path.join('graph', 'lab', 'lab1', 'small_cycle.txt')\n",
    "\n",
    "f = open(PATH)\n",
    "for line in f:\n",
    "    v1, v2 = list(map(int, line.split()))\n",
    "    G.add_edge(v1, v2)\n",
    "    \n",
    "print(G.edges)"
   ]
  },
  {
   "cell_type": "code",
   "execution_count": 7,
   "metadata": {
    "Collapsed": "false"
   },
   "outputs": [
    {
     "name": "stdout",
     "output_type": "stream",
     "text": [
      "###### Graph to List ######\n"
     ]
    }
   ],
   "source": [
    "# 그래프를 인접 리스트로 저장\n",
    "print(\"###### Graph to List ######\")                                     \n",
    "ListGraph = nx.to_dict_of_lists(G)\n",
    "for v in DiGraph:\n",
    "    print(str(v) + \" : \" + str(ListGraph[v]))"
   ]
  },
  {
   "cell_type": "code",
   "execution_count": 8,
   "metadata": {
    "Collapsed": "false"
   },
   "outputs": [
    {
     "data": {
      "text/plain": [
       "{1: [2, 10],\n",
       " 2: [1, 3],\n",
       " 3: [2, 4],\n",
       " 4: [3, 5],\n",
       " 5: [4, 6],\n",
       " 6: [5, 7],\n",
       " 7: [6, 8],\n",
       " 8: [7, 9],\n",
       " 9: [8, 10],\n",
       " 10: [9, 1]}"
      ]
     },
     "execution_count": 8,
     "metadata": {},
     "output_type": "execute_result"
    }
   ],
   "source": [
    "# 인접 리스트 형태\n",
    "ListGraph"
   ]
  },
  {
   "cell_type": "code",
   "execution_count": 9,
   "metadata": {
    "Collapsed": "false"
   },
   "outputs": [
    {
     "name": "stdout",
     "output_type": "stream",
     "text": [
      "###### Graph to EdgeList ######\n",
      "1 2\n",
      "1 10\n",
      "2 3\n",
      "3 4\n",
      "4 5\n",
      "5 6\n",
      "6 7\n",
      "7 8\n",
      "8 9\n",
      "9 10\n"
     ]
    }
   ],
   "source": [
    "# 그래프를 간선 리스트로 저장\n",
    "print(\"###### Graph to EdgeList ######\")                                  \n",
    "EdgeListGraph = nx.to_edgelist(G)                                     \n",
    "for e in EdgeListGraph:\n",
    "    v1, v2, w = e\n",
    "    print(v1, v2)"
   ]
  },
  {
   "cell_type": "code",
   "execution_count": 10,
   "metadata": {
    "Collapsed": "false"
   },
   "outputs": [
    {
     "name": "stdout",
     "output_type": "stream",
     "text": [
      "###### Graph to numpy array ######\n",
      "[[0. 1. 0. 0. 0. 0. 0. 0. 0. 1.]\n",
      " [1. 0. 1. 0. 0. 0. 0. 0. 0. 0.]\n",
      " [0. 1. 0. 1. 0. 0. 0. 0. 0. 0.]\n",
      " [0. 0. 1. 0. 1. 0. 0. 0. 0. 0.]\n",
      " [0. 0. 0. 1. 0. 1. 0. 0. 0. 0.]\n",
      " [0. 0. 0. 0. 1. 0. 1. 0. 0. 0.]\n",
      " [0. 0. 0. 0. 0. 1. 0. 1. 0. 0.]\n",
      " [0. 0. 0. 0. 0. 0. 1. 0. 1. 0.]\n",
      " [0. 0. 0. 0. 0. 0. 0. 1. 0. 1.]\n",
      " [1. 0. 0. 0. 0. 0. 0. 0. 1. 0.]]\n"
     ]
    }
   ],
   "source": [
    "# 그래프를 인접 행렬(일반 행렬)로 저장\n",
    "print(\"###### Graph to numpy array ######\")\n",
    "NumpyArrayGraph = nx.to_numpy_array(G)                                    \n",
    "print(NumpyArrayGraph)"
   ]
  },
  {
   "cell_type": "code",
   "execution_count": 11,
   "metadata": {
    "Collapsed": "false"
   },
   "outputs": [
    {
     "name": "stdout",
     "output_type": "stream",
     "text": [
      "###### Graph to Spicy sparse matrix ######\n",
      "  (0, 1)\t1\n",
      "  (0, 9)\t1\n",
      "  (1, 0)\t1\n",
      "  (1, 2)\t1\n",
      "  (2, 1)\t1\n",
      "  (2, 3)\t1\n",
      "  (3, 2)\t1\n",
      "  (3, 4)\t1\n",
      "  (4, 3)\t1\n",
      "  (4, 5)\t1\n",
      "  (5, 4)\t1\n",
      "  (5, 6)\t1\n",
      "  (6, 5)\t1\n",
      "  (6, 7)\t1\n",
      "  (7, 6)\t1\n",
      "  (7, 8)\t1\n",
      "  (8, 7)\t1\n",
      "  (8, 9)\t1\n",
      "  (9, 0)\t1\n",
      "  (9, 8)\t1\n"
     ]
    }
   ],
   "source": [
    "# 그래프를 인접 행렬(희소 행렬)로 저장\n",
    "print(\"###### Graph to Spicy sparse matrix ######\")\n",
    "SparseMatrixGraph = nx.to_scipy_sparse_matrix(G)                       \n",
    "print(SparseMatrixGraph)"
   ]
  },
  {
   "cell_type": "code",
   "execution_count": null,
   "metadata": {
    "Collapsed": "false"
   },
   "outputs": [],
   "source": []
  }
 ],
 "metadata": {
  "kernelspec": {
   "display_name": "Python 3",
   "language": "python",
   "name": "python3"
  },
  "language_info": {
   "codemirror_mode": {
    "name": "ipython",
    "version": 3
   },
   "file_extension": ".py",
   "mimetype": "text/x-python",
   "name": "python",
   "nbconvert_exporter": "python",
   "pygments_lexer": "ipython3",
   "version": "3.7.6"
  }
 },
 "nbformat": 4,
 "nbformat_minor": 4
}
