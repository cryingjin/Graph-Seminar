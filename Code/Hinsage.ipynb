{
 "cells": [
  {
   "cell_type": "code",
   "execution_count": 3,
   "metadata": {
    "Collapsed": "false"
   },
   "outputs": [],
   "source": [
    "import sys\n",
    "import stellargraph as sg"
   ]
  },
  {
   "cell_type": "code",
   "execution_count": 4,
   "metadata": {
    "Collapsed": "false"
   },
   "outputs": [],
   "source": [
    "import json\n",
    "import pandas as pd\n",
    "import numpy as np\n",
    "from sklearn import preprocessing, feature_extraction, model_selection\n",
    "from sklearn.metrics import mean_absolute_error, mean_squared_error\n",
    "\n",
    "import stellargraph as sg\n",
    "from stellargraph.mapper import HinSAGELinkGenerator\n",
    "from stellargraph.layer import HinSAGE, link_regression\n",
    "from tensorflow.keras import Model, optimizers, losses, metrics\n",
    "\n",
    "import multiprocessing\n",
    "from stellargraph import datasets\n",
    "from IPython.display import display, HTML\n",
    "import matplotlib.pyplot as plt\n",
    "%matplotlib inline"
   ]
  },
  {
   "cell_type": "code",
   "execution_count": 5,
   "metadata": {
    "Collapsed": "false"
   },
   "outputs": [],
   "source": [
    "batch_size = 200\n",
    "epochs = 20\n",
    "# Use 70% of edges for training, the rest for testing:\n",
    "train_size = 0.7\n",
    "test_size = 0.3"
   ]
  },
  {
   "cell_type": "code",
   "execution_count": 6,
   "metadata": {
    "Collapsed": "false"
   },
   "outputs": [
    {
     "data": {
      "text/html": [
       "The MovieLens 100K dataset contains 100,000 ratings from 943 users on 1682 movies."
      ],
      "text/plain": [
       "<IPython.core.display.HTML object>"
      ]
     },
     "metadata": {},
     "output_type": "display_data"
    }
   ],
   "source": [
    "dataset = datasets.MovieLens()\n",
    "display(HTML(dataset.description))\n",
    "G, edges_with_ratings = dataset.load()"
   ]
  },
  {
   "cell_type": "code",
   "execution_count": 12,
   "metadata": {
    "Collapsed": "false"
   },
   "outputs": [
    {
     "data": {
      "text/plain": [
       "(2625, 100000)"
      ]
     },
     "execution_count": 12,
     "metadata": {},
     "output_type": "execute_result"
    }
   ],
   "source": [
    "len(G.nodes()),len(G.edges()) "
   ]
  },
  {
   "cell_type": "code",
   "execution_count": 13,
   "metadata": {
    "Collapsed": "false"
   },
   "outputs": [
    {
     "name": "stdout",
     "output_type": "stream",
     "text": [
      "StellarGraph: Undirected multigraph\n",
      " Nodes: 2625, Edges: 100000\n",
      "\n",
      " Node types:\n",
      "  movie: [1682]\n",
      "    Features: float32 vector, length 19\n",
      "    Edge types: movie-rating->user\n",
      "  user: [943]\n",
      "    Features: float32 vector, length 24\n",
      "    Edge types: user-rating->movie\n",
      "\n",
      " Edge types:\n",
      "    movie-rating->user: [100000]\n",
      "        Weights: all 1 (default)\n",
      "        Features: none\n"
     ]
    }
   ],
   "source": [
    "print(G.info())"
   ]
  },
  {
   "cell_type": "code",
   "execution_count": 14,
   "metadata": {
    "Collapsed": "false"
   },
   "outputs": [],
   "source": [
    "edges_train, edges_test = model_selection.train_test_split(\n",
    "    edges_with_ratings, train_size=train_size, test_size=test_size\n",
    ")\n",
    "\n",
    "edgelist_train = list(edges_train[[\"user_id\", \"movie_id\"]].itertuples(index=False))\n",
    "edgelist_test = list(edges_test[[\"user_id\", \"movie_id\"]].itertuples(index=False))\n",
    "\n",
    "labels_train = edges_train[\"rating\"]\n",
    "labels_test = edges_test[\"rating\"]"
   ]
  },
  {
   "cell_type": "code",
   "execution_count": 17,
   "metadata": {
    "Collapsed": "false"
   },
   "outputs": [],
   "source": [
    "num_samples = [8, 4]"
   ]
  },
  {
   "cell_type": "code",
   "execution_count": 18,
   "metadata": {
    "Collapsed": "false"
   },
   "outputs": [],
   "source": [
    "generator = HinSAGELinkGenerator(\n",
    "    G, batch_size, num_samples, head_node_types=[\"user\", \"movie\"]\n",
    ")\n",
    "\n",
    "train_gen = generator.generator(edgelist_train, labels_train, shuffle=True)\n",
    "test_gen = generator.flow(edgelist_test, labels_test)"
   ]
  },
  {
   "cell_type": "code",
   "execution_count": 19,
   "metadata": {
    "Collapsed": "false"
   },
   "outputs": [
    {
     "data": {
      "text/plain": [
       "[('user', [2]),\n",
       " ('movie', [3]),\n",
       " ('movie', [4]),\n",
       " ('user', [5]),\n",
       " ('user', []),\n",
       " ('movie', [])]"
      ]
     },
     "execution_count": 19,
     "metadata": {},
     "output_type": "execute_result"
    }
   ],
   "source": [
    "generator.schema.type_adjacency_list(generator.head_node_types, len(num_samples))"
   ]
  },
  {
   "cell_type": "code",
   "execution_count": 20,
   "metadata": {
    "Collapsed": "false"
   },
   "outputs": [
    {
     "data": {
      "text/plain": [
       "{'user': [EdgeType(n1='user', rel='rating', n2='movie')],\n",
       " 'movie': [EdgeType(n1='movie', rel='rating', n2='user')]}"
      ]
     },
     "execution_count": 20,
     "metadata": {},
     "output_type": "execute_result"
    }
   ],
   "source": [
    "generator.schema.schema"
   ]
  },
  {
   "cell_type": "code",
   "execution_count": 21,
   "metadata": {
    "Collapsed": "false"
   },
   "outputs": [],
   "source": [
    "hinsage_layer_sizes = [32, 32]\n",
    "assert len(hinsage_layer_sizes) == len(num_samples)\n",
    "\n",
    "hinsage = HinSAGE(\n",
    "    layer_sizes = hinsage_layer_sizes, generator = generator, bias = True, dropout = 0.0\n",
    ")"
   ]
  },
  {
   "cell_type": "code",
   "execution_count": 24,
   "metadata": {
    "Collapsed": "false"
   },
   "outputs": [],
   "source": [
    "# Expose input and output sockets of hinsage:\n",
    "x_inp, x_out = hinsage.in_out_tensors()"
   ]
  },
  {
   "cell_type": "code",
   "execution_count": 53,
   "metadata": {
    "Collapsed": "false"
   },
   "outputs": [
    {
     "data": {
      "text/plain": [
       "[<KerasTensor: shape=(None, 1, 24) dtype=float32 (created by layer 'input_1')>,\n",
       " <KerasTensor: shape=(None, 1, 19) dtype=float32 (created by layer 'input_2')>,\n",
       " <KerasTensor: shape=(None, 8, 19) dtype=float32 (created by layer 'input_3')>,\n",
       " <KerasTensor: shape=(None, 8, 24) dtype=float32 (created by layer 'input_4')>,\n",
       " <KerasTensor: shape=(None, 32, 24) dtype=float32 (created by layer 'input_5')>,\n",
       " <KerasTensor: shape=(None, 32, 19) dtype=float32 (created by layer 'input_6')>]"
      ]
     },
     "execution_count": 53,
     "metadata": {},
     "output_type": "execute_result"
    }
   ],
   "source": [
    "x_inp"
   ]
  },
  {
   "cell_type": "code",
   "execution_count": 26,
   "metadata": {
    "Collapsed": "false"
   },
   "outputs": [
    {
     "name": "stdout",
     "output_type": "stream",
     "text": [
      "link_regression: using 'concat' method to combine node embeddings into edge embeddings\n"
     ]
    }
   ],
   "source": [
    "# Final estimator layer\n",
    "score_prediction = link_regression(edge_embedding_method=\"concat\")(x_out)"
   ]
  },
  {
   "cell_type": "code",
   "execution_count": 27,
   "metadata": {
    "Collapsed": "false"
   },
   "outputs": [],
   "source": [
    "import tensorflow.keras.backend as K\n",
    "\n",
    "def root_mean_square_error(s_true, s_pred):\n",
    "    return K.sqrt(K.mean(K.pow(s_true - s_pred, 2)))\n",
    "\n",
    "\n",
    "model = Model(inputs = x_inp, outputs = score_prediction)\n",
    "model.compile(\n",
    "    optimizer=optimizers.Adam(lr=1e-2),\n",
    "    loss=losses.mean_squared_error,\n",
    "    metrics=[root_mean_square_error, metrics.mae],\n",
    ")"
   ]
  },
  {
   "cell_type": "code",
   "execution_count": 28,
   "metadata": {
    "Collapsed": "false"
   },
   "outputs": [
    {
     "name": "stdout",
     "output_type": "stream",
     "text": [
      "Model: \"model\"\n",
      "__________________________________________________________________________________________________\n",
      "Layer (type)                    Output Shape         Param #     Connected to                     \n",
      "==================================================================================================\n",
      "input_3 (InputLayer)            [(None, 8, 19)]      0                                            \n",
      "__________________________________________________________________________________________________\n",
      "input_5 (InputLayer)            [(None, 32, 24)]     0                                            \n",
      "__________________________________________________________________________________________________\n",
      "input_6 (InputLayer)            [(None, 32, 19)]     0                                            \n",
      "__________________________________________________________________________________________________\n",
      "input_1 (InputLayer)            [(None, 1, 24)]      0                                            \n",
      "__________________________________________________________________________________________________\n",
      "reshape (Reshape)               (None, 1, 8, 19)     0           input_3[0][0]                    \n",
      "__________________________________________________________________________________________________\n",
      "reshape_2 (Reshape)             (None, 8, 4, 24)     0           input_5[0][0]                    \n",
      "__________________________________________________________________________________________________\n",
      "input_4 (InputLayer)            [(None, 8, 24)]      0                                            \n",
      "__________________________________________________________________________________________________\n",
      "reshape_3 (Reshape)             (None, 8, 4, 19)     0           input_6[0][0]                    \n",
      "__________________________________________________________________________________________________\n",
      "dropout_1 (Dropout)             (None, 1, 24)        0           input_1[0][0]                    \n",
      "__________________________________________________________________________________________________\n",
      "dropout (Dropout)               (None, 1, 8, 19)     0           reshape[0][0]                    \n",
      "__________________________________________________________________________________________________\n",
      "dropout_5 (Dropout)             (None, 8, 19)        0           input_3[0][0]                    \n",
      "__________________________________________________________________________________________________\n",
      "dropout_4 (Dropout)             (None, 8, 4, 24)     0           reshape_2[0][0]                  \n",
      "__________________________________________________________________________________________________\n",
      "input_2 (InputLayer)            [(None, 1, 19)]      0                                            \n",
      "__________________________________________________________________________________________________\n",
      "reshape_1 (Reshape)             (None, 1, 8, 24)     0           input_4[0][0]                    \n",
      "__________________________________________________________________________________________________\n",
      "dropout_7 (Dropout)             (None, 8, 24)        0           input_4[0][0]                    \n",
      "__________________________________________________________________________________________________\n",
      "dropout_6 (Dropout)             (None, 8, 4, 19)     0           reshape_3[0][0]                  \n",
      "__________________________________________________________________________________________________\n",
      "mean_hin_aggregator (MeanHinAgg multiple             720         dropout_1[0][0]                  \n",
      "                                                                 dropout[0][0]                    \n",
      "                                                                 dropout_7[0][0]                  \n",
      "                                                                 dropout_6[0][0]                  \n",
      "__________________________________________________________________________________________________\n",
      "mean_hin_aggregator_1 (MeanHinA multiple             720         dropout_3[0][0]                  \n",
      "                                                                 dropout_2[0][0]                  \n",
      "                                                                 dropout_5[0][0]                  \n",
      "                                                                 dropout_4[0][0]                  \n",
      "__________________________________________________________________________________________________\n",
      "dropout_3 (Dropout)             (None, 1, 19)        0           input_2[0][0]                    \n",
      "__________________________________________________________________________________________________\n",
      "dropout_2 (Dropout)             (None, 1, 8, 24)     0           reshape_1[0][0]                  \n",
      "__________________________________________________________________________________________________\n",
      "reshape_4 (Reshape)             (None, 1, 8, 32)     0           mean_hin_aggregator_1[1][0]      \n",
      "__________________________________________________________________________________________________\n",
      "reshape_5 (Reshape)             (None, 1, 8, 32)     0           mean_hin_aggregator[1][0]        \n",
      "__________________________________________________________________________________________________\n",
      "dropout_9 (Dropout)             (None, 1, 32)        0           mean_hin_aggregator[0][0]        \n",
      "__________________________________________________________________________________________________\n",
      "dropout_8 (Dropout)             (None, 1, 8, 32)     0           reshape_4[0][0]                  \n",
      "__________________________________________________________________________________________________\n",
      "dropout_11 (Dropout)            (None, 1, 32)        0           mean_hin_aggregator_1[0][0]      \n",
      "__________________________________________________________________________________________________\n",
      "dropout_10 (Dropout)            (None, 1, 8, 32)     0           reshape_5[0][0]                  \n",
      "__________________________________________________________________________________________________\n",
      "mean_hin_aggregator_2 (MeanHinA (None, 1, 32)        1056        dropout_9[0][0]                  \n",
      "                                                                 dropout_8[0][0]                  \n",
      "__________________________________________________________________________________________________\n",
      "mean_hin_aggregator_3 (MeanHinA (None, 1, 32)        1056        dropout_11[0][0]                 \n",
      "                                                                 dropout_10[0][0]                 \n",
      "__________________________________________________________________________________________________\n",
      "reshape_6 (Reshape)             (None, 32)           0           mean_hin_aggregator_2[0][0]      \n",
      "__________________________________________________________________________________________________\n",
      "reshape_7 (Reshape)             (None, 32)           0           mean_hin_aggregator_3[0][0]      \n",
      "__________________________________________________________________________________________________\n",
      "lambda (Lambda)                 (None, 32)           0           reshape_6[0][0]                  \n",
      "                                                                 reshape_7[0][0]                  \n",
      "__________________________________________________________________________________________________\n",
      "link_embedding (LinkEmbedding)  (None, 64)           0           lambda[0][0]                     \n",
      "                                                                 lambda[1][0]                     \n",
      "__________________________________________________________________________________________________\n",
      "dense (Dense)                   (None, 1)            65          link_embedding[0][0]             \n",
      "__________________________________________________________________________________________________\n",
      "reshape_8 (Reshape)             (None, 1)            0           dense[0][0]                      \n",
      "==================================================================================================\n",
      "Total params: 3,617\n",
      "Trainable params: 3,617\n",
      "Non-trainable params: 0\n",
      "__________________________________________________________________________________________________\n"
     ]
    }
   ],
   "source": [
    "model.summary()"
   ]
  },
  {
   "cell_type": "code",
   "execution_count": 29,
   "metadata": {
    "Collapsed": "false"
   },
   "outputs": [],
   "source": [
    "# Specify the number of workers to use for model training\n",
    "num_workers = 4"
   ]
  },
  {
   "cell_type": "code",
   "execution_count": 30,
   "metadata": {
    "Collapsed": "false"
   },
   "outputs": [
    {
     "name": "stdout",
     "output_type": "stream",
     "text": [
      "150/150 [==============================] - 12s 68ms/step - loss: 11.6525 - root_mean_square_error: 3.4127 - mean_absolute_error: 3.2189 12s - loss: 11.5372 - root_mean_square_er - ETA: 7s - loss: 11.5712 - root_mean_square_error: 3.4008 - mean_absol - ETA: 5s - loss: 11.6045 - root_mean_s\n",
      "Untrained model's Test Evaluation:\n",
      "\tloss: 11.7293\n",
      "\troot_mean_square_error: 3.4241\n",
      "\tmean_absolute_error: 3.2295\n"
     ]
    }
   ],
   "source": [
    "test_metrics = model.evaluate(\n",
    "    test_gen, verbose=1, use_multiprocessing=False, workers=num_workers\n",
    ")\n",
    "\n",
    "print(\"Untrained model's Test Evaluation:\")\n",
    "for name, val in zip(model.metrics_names, test_metrics):\n",
    "    print(\"\\t{}: {:0.4f}\".format(name, val))"
   ]
  },
  {
   "cell_type": "code",
   "execution_count": 31,
   "metadata": {
    "Collapsed": "false"
   },
   "outputs": [
    {
     "name": "stdout",
     "output_type": "stream",
     "text": [
      "Epoch 1/20\n",
      "350/350 [==============================] - 39s 105ms/step - loss: 1.3172 - root_mean_square_error: 1.1287 - mean_absolute_error: 0.9345 - val_loss: 1.1482 - val_root_mean_square_error: 1.0705 - val_mean_absolute_error: 0.8628 - loss: 2.9243 - root_mean_square_error: 1.6054 - mean_absolu - ETA: 25s - loss: 2.2099 - root_mean_square_error: 1.4008 - mean_absolute_error: 1.186 - ETA: 25s - loss: 2.1898 - root_mean - ETA: 18s - loss: 1.6195  - ETA: 12s - loss: 1.4430 - root_mean_squar - ETA: 1s - loss: 1.3247 - root_mean_square_error: 1.1313 - mean_absolute_err\n",
      "Epoch 2/20\n",
      "350/350 [==============================] - 39s 109ms/step - loss: 1.1449 - root_mean_square_error: 1.0686 - mean_absolute_error: 0.8681 - val_loss: 1.1272 - val_root_mean_square_error: 1.0606 - val_mean_absolute_error: 0.8721\n",
      "Epoch 3/20\n",
      "350/350 [==============================] - 38s 108ms/step - loss: 1.1357 - root_mean_square_error: 1.0644 - mean_absolute_error: 0.8621 - val_loss: 1.1159 - val_root_mean_square_error: 1.0553 - val_mean_absolute_error: 0.8576 - root_mean_square_error: 1.0648 - mean_a - ETA: 1s - loss: 1.1354 - root_mean_square_error: 1.0642 - mean_absolute\n",
      "Epoch 4/20\n",
      "350/350 [==============================] - 36s 101ms/step - loss: 1.1236 - root_mean_square_error: 1.0589 - mean_absolute_error: 0.8567 - val_loss: 1.1255 - val_root_mean_square_error: 1.0599 - val_mean_absolute_error: 0.8687absolute_er - ETA: 17s - loss: 1.1222 - root_mean_square_error: 1.0583 - mean_absolute_error: 0 - ETA: 17s - loss: 1.1208 - root_mean_square_error: 1.0576 - mean_absolute_error: 0.8 - ETA: 16s - loss: 1.1247 - root_mean_square_error: 1.0594 - m  - ETA: 4s\n",
      "Epoch 5/20\n",
      "350/350 [==============================] - 35s 100ms/step - loss: 1.1177 - root_mean_square_error: 1.0560 - mean_absolute_error: 0.8541 - val_loss: 1.1065 - val_root_mean_square_error: 1.0508 - val_mean_absolute_error: 0.8449\n",
      "Epoch 6/20\n",
      "350/350 [==============================] - 37s 106ms/step - loss: 1.1140 - root_mean_square_error: 1.0541 - mean_absolute_error: 0.8518 - val_loss: 1.1041 - val_root_mean_square_error: 1.0497 - val_mean_absolute_error: 0.8523.09 - ETA: 1s - loss: 1.1142 - root_mean_square_error: 1.0542 - mean_\n",
      "Epoch 7/20\n",
      "350/350 [==============================] - 36s 102ms/step - loss: 1.1077 - root_mean_square_error: 1.0513 - mean_absolute_error: 0.8494 - val_loss: 1.0959 - val_root_mean_square_error: 1.0457 - val_mean_absolute_error: 0.8437 root_mean_square_error: 1.0517 - mean_absolute_error:  - ETA: 2s - loss: 1.1093 - root_mean_square_err\n",
      "Epoch 8/20\n",
      "350/350 [==============================] - 36s 101ms/step - loss: 1.1062 - root_mean_square_error: 1.0505 - mean_absolute_error: 0.8488 - val_loss: 1.0939 - val_root_mean_square_error: 1.0448 - val_mean_absolute_error: 0.8438\n",
      "Epoch 9/20\n",
      "350/350 [==============================] - 36s 102ms/step - loss: 1.1037 - root_mean_square_error: 1.0494 - mean_absolute_error: 0.8477 - val_loss: 1.0891 - val_root_mean_square_error: 1.0425 - val_mean_absolute_error: 0.8446t_mean_square_error: 1.0495 - - ETA: 6s - loss: 1.1021 - root_mean_squa\n",
      "Epoch 10/20\n",
      "350/350 [==============================] - 38s 108ms/step - loss: 1.0989 - root_mean_square_error: 1.0471 - mean_absolute_error: 0.8459 - val_loss: 1.1091 - val_root_mean_square_error: 1.0521 - val_mean_absolute_error: 0.85910852 - root_mean_square - ETA: 18s - loss: 1.0976 - root_mean_square_error: 1.0461 - mean - ETA: 15s - loss: 1.0968 - root_mean_squar - ETA: 6s - loss: 1.1039 - root_mean_square_error: 1.0493 - mean_absolute_error: 0.84 - ETA: 6s - l - ETA: 3s - loss: 1.1002 - root_mean_square_error: 1.0476 - mean_absolute_error: 0. - ETA: 3s - loss: 1.1004 - root_mean_square_error: 1.0477 - - ETA: 1s - loss: 1.1002 - root_mean_square_error: 1.0476 - m\n",
      "Epoch 11/20\n",
      "350/350 [==============================] - 37s 106ms/step - loss: 1.0998 - root_mean_square_error: 1.0475 - mean_absolute_error: 0.8459 - val_loss: 1.0925 - val_root_mean_square_error: 1.0442 - val_mean_absolute_error: 0.8481: 1.0463 - mean_\n",
      "Epoch 12/20\n",
      "350/350 [==============================] - 38s 107ms/step - loss: 1.0966 - root_mean_square_error: 1.0461 - mean_absolute_error: 0.8452 - val_loss: 1.0930 - val_root_mean_square_error: 1.0444 - val_mean_absolute_error: 0.8533\n",
      "Epoch 13/20\n",
      "350/350 [==============================] - 38s 107ms/step - loss: 1.0934 - root_mean_square_error: 1.0445 - mean_absolute_error: 0.8434 - val_loss: 1.1069 - val_root_mean_square_error: 1.0509 - val_mean_absolute_error: 0.8387\n",
      "Epoch 14/20\n",
      "350/350 [==============================] - 39s 110ms/step - loss: 1.0941 - root_mean_square_error: 1.0448 - mean_absolute_error: 0.8432 - val_loss: 1.0835 - val_root_mean_square_error: 1.0397 - val_mean_absolute_error: 0.8372\n",
      "Epoch 15/20\n",
      "350/350 [==============================] - 37s 104ms/step - loss: 1.0895 - root_mean_square_error: 1.0425 - mean_absolute_error: 0.8415 - val_loss: 1.0826 - val_root_mean_square_error: 1.0394 - val_mean_absolute_error: 0.8349\n",
      "Epoch 16/20\n",
      "350/350 [==============================] - 37s 106ms/step - loss: 1.0891 - root_mean_square_error: 1.0424 - mean_absolute_error: 0.8412 - val_loss: 1.0825 - val_root_mean_square_error: 1.0393 - val_mean_absolute_error: 0.8395\n",
      "Epoch 17/20\n",
      "350/350 [==============================] - 40s 113ms/step - loss: 1.0864 - root_mean_square_error: 1.0410 - mean_absolute_error: 0.8397 - val_loss: 1.0905 - val_root_mean_square_error: 1.0431 - val_mean_absolute_error: 0.8326\n",
      "Epoch 18/20\n",
      "350/350 [==============================] - 41s 114ms/step - loss: 1.0880 - root_mean_square_error: 1.0417 - mean_absolute_error: 0.8407 - val_loss: 1.1097 - val_root_mean_square_error: 1.0524 - val_mean_absolute_error: 0.8567oss: 1.0789 - root_mean_square_er - ETA: 21s - loss: 1.0745 - ro - ETA: 2s - loss: 1.0856 - root_mean_square_error: 1.0406\n",
      "Epoch 19/20\n",
      "350/350 [==============================] - 38s 107ms/step - loss: 1.0854 - root_mean_square_error: 1.0407 - mean_absolute_error: 0.8397 - val_loss: 1.0778 - val_root_mean_square_error: 1.0371 - val_mean_absolute_error: 0.8379\n",
      "Epoch 20/20\n",
      "350/350 [==============================] - 38s 107ms/step - loss: 1.0813 - root_mean_square_error: 1.0387 - mean_absolute_error: 0.8378 - val_loss: 1.0765 - val_root_mean_square_error: 1.0365 - val_mean_absolute_error: 0.8306\n"
     ]
    }
   ],
   "source": [
    "history = model.fit(\n",
    "    train_gen,\n",
    "    validation_data=test_gen,\n",
    "    epochs=epochs,\n",
    "    verbose=1,\n",
    "    shuffle=False,\n",
    "    use_multiprocessing=False,\n",
    "    workers=num_workers,\n",
    ")"
   ]
  },
  {
   "cell_type": "code",
   "execution_count": 33,
   "metadata": {
    "Collapsed": "false"
   },
   "outputs": [
    {
     "data": {
      "image/png": "[encoded data removed]",
      "text/plain": [
       "<Figure size 504x864 with 3 Axes>"
      ]
     },
     "metadata": {
      "needs_background": "light"
     },
     "output_type": "display_data"
    }
   ],
   "source": [
    "sg.utils.plot_history(history)"
   ]
  },
  {
   "cell_type": "code",
   "execution_count": 34,
   "metadata": {
    "Collapsed": "false"
   },
   "outputs": [
    {
     "name": "stdout",
     "output_type": "stream",
     "text": [
      "150/150 [==============================] - 11s 72ms/step - loss: 1.0767 - root_mean_square_error: 1.0365 - mean_absolute_error: 0.83154s - loss: 1.0700 - root_mean_square_error: 1. - ETA: 3s - loss: 1.0698 - root_mean_square_error: 1.0332 - mean_absolute - ETA: 2s - loss: 1.0709 - root_mean_square_e\n",
      "Test Evaluation:\n",
      "\tloss: 1.0767\n",
      "\troot_mean_square_error: 1.0365\n",
      "\tmean_absolute_error: 0.8315\n"
     ]
    }
   ],
   "source": [
    "test_metrics = model.evaluate(\n",
    "    test_gen, use_multiprocessing=False, workers=num_workers, verbose=1\n",
    ")\n",
    "\n",
    "print(\"Test Evaluation:\")\n",
    "for name, val in zip(model.metrics_names, test_metrics):\n",
    "    print(\"\\t{}: {:0.4f}\".format(name, val))"
   ]
  },
  {
   "cell_type": "code",
   "execution_count": 35,
   "metadata": {
    "Collapsed": "false"
   },
   "outputs": [
    {
     "name": "stdout",
     "output_type": "stream",
     "text": [
      "Mean Baseline Test set metrics:\n",
      "\troot_mean_square_error =  1.1221461456611712\n",
      "\tmean_absolute_error =  0.9433370764732361\n",
      "\n",
      "Model Test set metrics:\n",
      "\troot_mean_square_error =  1.0363052497365077\n",
      "\tmean_absolute_error =  0.830336329015096\n"
     ]
    }
   ],
   "source": [
    "y_true = labels_test\n",
    "# Predict the rankings using the model:\n",
    "y_pred = model.predict(test_gen)\n",
    "# Mean baseline rankings = mean movie ranking:\n",
    "y_pred_baseline = np.full_like(y_pred, np.mean(y_true))\n",
    "\n",
    "rmse = np.sqrt(mean_squared_error(y_true, y_pred_baseline))\n",
    "mae = mean_absolute_error(y_true, y_pred_baseline)\n",
    "print(\"Mean Baseline Test set metrics:\")\n",
    "print(\"\\troot_mean_square_error = \", rmse)\n",
    "print(\"\\tmean_absolute_error = \", mae)\n",
    "\n",
    "rmse = np.sqrt(mean_squared_error(y_true, y_pred))\n",
    "mae = mean_absolute_error(y_true, y_pred)\n",
    "print(\"\\nModel Test set metrics:\")\n",
    "print(\"\\troot_mean_square_error = \", rmse)\n",
    "print(\"\\tmean_absolute_error = \", mae)"
   ]
  },
  {
   "cell_type": "code",
   "execution_count": 36,
   "metadata": {
    "Collapsed": "false"
   },
   "outputs": [
    {
     "data": {
      "image/png": "[encoded data removed]",
      "text/plain": [
       "<Figure size 432x288 with 1 Axes>"
      ]
     },
     "metadata": {
      "needs_background": "light"
     },
     "output_type": "display_data"
    }
   ],
   "source": [
    "h_true = plt.hist(y_true, bins=30, facecolor=\"green\", alpha=0.5)\n",
    "h_pred = plt.hist(y_pred, bins=30, facecolor=\"blue\", alpha=0.5)\n",
    "plt.xlabel(\"ranking\")\n",
    "plt.ylabel(\"count\")\n",
    "plt.legend((\"True\", \"Predicted\"))\n",
    "plt.show()"
   ]
  },
  {
   "cell_type": "code",
   "execution_count": 6,
   "metadata": {
    "Collapsed": "false"
   },
   "outputs": [],
   "source": [
    "import numpy as np\n",
    "from tensorflow.keras.layers import *"
   ]
  },
  {
   "cell_type": "code",
   "execution_count": 7,
   "metadata": {
    "Collapsed": "false"
   },
   "outputs": [
    {
     "data": {
      "text/plain": [
       "<tf.Tensor: shape=(5, 1), dtype=int64, numpy=\n",
       "array([[ 0],\n",
       "       [ 6],\n",
       "       [14],\n",
       "       [24],\n",
       "       [36]])>"
      ]
     },
     "execution_count": 7,
     "metadata": {},
     "output_type": "execute_result"
    }
   ],
   "source": [
    "Multiply()([np.arange(5).reshape(5, 1),\n",
    "                            np.arange(5, 10).reshape(5, 1)])"
   ]
  },
  {
   "cell_type": "code",
   "execution_count": 8,
   "metadata": {
    "Collapsed": "false"
   },
   "outputs": [
    {
     "data": {
      "text/plain": [
       "array([[0],\n",
       "       [1],\n",
       "       [2],\n",
       "       [3],\n",
       "       [4]])"
      ]
     },
     "execution_count": 8,
     "metadata": {},
     "output_type": "execute_result"
    }
   ],
   "source": [
    "np.arange(5).reshape(5, 1)"
   ]
  },
  {
   "cell_type": "code",
   "execution_count": 9,
   "metadata": {
    "Collapsed": "false"
   },
   "outputs": [
    {
     "data": {
      "text/plain": [
       "array([[5],\n",
       "       [6],\n",
       "       [7],\n",
       "       [8],\n",
       "       [9]])"
      ]
     },
     "execution_count": 9,
     "metadata": {},
     "output_type": "execute_result"
    }
   ],
   "source": [
    "np.arange(5, 10).reshape(5, 1)"
   ]
  },
  {
   "cell_type": "code",
   "execution_count": null,
   "metadata": {
    "Collapsed": "false"
   },
   "outputs": [],
   "source": []
  }
 ],
 "metadata": {
  "kernelspec": {
   "display_name": "Python 3",
   "language": "python",
   "name": "python3"
  },
  "language_info": {
   "codemirror_mode": {
    "name": "ipython",
    "version": 3
   },
   "file_extension": ".py",
   "mimetype": "text/x-python",
   "name": "python",
   "nbconvert_exporter": "python",
   "pygments_lexer": "ipython3",
   "version": "3.7.6"
  }
 },
 "nbformat": 4,
 "nbformat_minor": 4
}
