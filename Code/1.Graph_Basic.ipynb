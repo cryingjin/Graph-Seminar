{
 "cells": [
  {
   "cell_type": "markdown",
   "metadata": {
    "Collapsed": "false"
   },
   "source": [
    "# Code 1. Graph Basic"
   ]
  },
  {
   "cell_type": "markdown",
   "metadata": {
    "Collapsed": "false"
   },
   "source": [
    "본 실습에서는 그래프를 컴퓨터 상에서 다루는 기초적인 방법에 대해 배웁니다."
   ]
  },
  {
   "cell_type": "code",
   "execution_count": 1,
   "metadata": {
    "Collapsed": "false"
   },
   "outputs": [],
   "source": [
    "import os\n",
    "import sys\n",
    "\n",
    "import numpy as np\n",
    "import matplotlib.pyplot as plt\n",
    "\n",
    "import networkx as nx"
   ]
  },
  {
   "cell_type": "code",
   "execution_count": 2,
   "metadata": {
    "Collapsed": "false"
   },
   "outputs": [
    {
     "name": "stdout",
     "output_type": "stream",
     "text": [
      "###### Graph Init ######\n"
     ]
    }
   ],
   "source": [
    "print(\"###### Graph Init ######\")               \n",
    "G= nx.Graph()                                   # 방향성이 없는 그래프\n",
    "DiGraph = nx.DiGraph()                          # 방향성이 있는 그래프"
   ]
  },
  {
   "cell_type": "code",
   "execution_count": 3,
   "metadata": {
    "Collapsed": "false"
   },
   "outputs": [
    {
     "name": "stdout",
     "output_type": "stream",
     "text": [
      "###### Add Node to Graph ######\n",
      "# Add node 1\n",
      "Num of nodes in G : 1\n",
      "Graph : [1]\n",
      "\n"
     ]
    }
   ],
   "source": [
    "print(\"###### Add Node to Graph ######\")                    \n",
    "print(\"# Add node 1\")                                      \n",
    "G.add_node(1)                                               # 노드 1 추가\n",
    "print(\"Num of nodes in G : \" + str(G.number_of_nodes()))    # 노드 수 반환\n",
    "print(\"Graph : \" + str(G.nodes)+ \"\\n\")                      # 노드 목록 반환"
   ]
  },
  {
   "cell_type": "code",
   "execution_count": 4,
   "metadata": {
    "Collapsed": "false"
   },
   "outputs": [
    {
     "name": "stdout",
     "output_type": "stream",
     "text": [
      "# Add vertex 2 ~ 10\n",
      "1\n",
      "2\n",
      "3\n",
      "4\n",
      "5\n",
      "6\n",
      "7\n",
      "8\n",
      "9\n",
      "10\n",
      "Num of nodes in G : 10\n",
      "Graph : [1, 2, 3, 4, 5, 6, 7, 8, 9, 10]\n",
      "\n"
     ]
    }
   ],
   "source": [
    "print(\"# Add vertex 2 ~ 10\")     # 노드 2 ~ 10 추가\n",
    "for i in range (1, 11):\n",
    "    print(i)\n",
    "    G.add_node(i)\n",
    "print(\"Num of nodes in G : \" + str(G.number_of_nodes()))\n",
    "print(\"Graph : \" + str(G.nodes) + \"\\n\")"
   ]
  },
  {
   "cell_type": "code",
   "execution_count": 5,
   "metadata": {
    "Collapsed": "false"
   },
   "outputs": [
    {
     "name": "stdout",
     "output_type": "stream",
     "text": [
      "###### Add Edge to Graph ######\n",
      "#Add edge (1, 2)\n",
      "Graph : [(1, 2)]\n",
      "\n"
     ]
    }
   ],
   "source": [
    "print(\"###### Add Edge to Graph ######\")                    \n",
    "G = nx.Graph()\n",
    "print(\"#Add edge (1, 2)\")                                   \n",
    "G.add_edge(1, 2)                            # 노드 1과 2 사이에 엣지 추가\n",
    "print(\"Graph : \" + str(G.edges) + \"\\n\")     # 엣지의 목록 반환"
   ]
  },
  {
   "cell_type": "code",
   "execution_count": 6,
   "metadata": {
    "Collapsed": "false"
   },
   "outputs": [
    {
     "name": "stdout",
     "output_type": "stream",
     "text": [
      "#Add edge (1, i) for i = 2 ~ 10\n",
      "Graph : [(1, 2), (1, 3), (1, 4), (1, 5), (1, 6), (1, 7), (1, 8), (1, 9), (1, 10)]\n",
      "\n"
     ]
    }
   ],
   "source": [
    "print(\"#Add edge (1, i) for i = 2 ~ 10\")  # 노드 1과 다른 노드 사이의 엣지 추가\n",
    "for i in range (2, 11):\n",
    "    G.add_edge(1, i)\n",
    "print(\"Graph : \" + str(G.edges) + \"\\n\")   # 엣지의 목록 반환"
   ]
  },
  {
   "cell_type": "code",
   "execution_count": 10,
   "metadata": {
    "Collapsed": "false"
   },
   "outputs": [
    {
     "data": {
      "image/png": "[encoded data removed]",
      "text/plain": [
       "<Figure size 432x288 with 1 Axes>"
      ]
     },
     "metadata": {},
     "output_type": "display_data"
    }
   ],
   "source": [
    "# 그래프를 시각화\n",
    "# 노드의 위치 결정\n",
    "pos = nx.spring_layout(G)                                               \n",
    "# 노드의 색과 크기를 지정하여 출력\n",
    "im = nx.draw_networkx_nodes(G, pos, node_color=\"red\", node_size=100)    \n",
    "# 엣지 출력\n",
    "nx.draw_networkx_edges(G, pos)                                          \n",
    "# 각 노드의 라벨을 출력\n",
    "nx.draw_networkx_labels(G, pos, font_size=10, font_color=\"black\")       \n",
    "plt.show()"
   ]
  },
  {
   "cell_type": "code",
   "execution_count": null,
   "metadata": {
    "Collapsed": "false"
   },
   "outputs": [],
   "source": []
  }
 ],
 "metadata": {
  "kernelspec": {
   "display_name": "Python 3",
   "language": "python",
   "name": "python3"
  },
  "language_info": {
   "codemirror_mode": {
    "name": "ipython",
    "version": 3
   },
   "file_extension": ".py",
   "mimetype": "text/x-python",
   "name": "python",
   "nbconvert_exporter": "python",
   "pygments_lexer": "ipython3",
   "version": "3.7.6"
  }
 },
 "nbformat": 4,
 "nbformat_minor": 4
}
