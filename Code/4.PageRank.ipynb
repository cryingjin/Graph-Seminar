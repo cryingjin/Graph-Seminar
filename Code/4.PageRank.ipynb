{
 "cells": [
  {
   "cell_type": "markdown",
   "metadata": {
    "Collapsed": "false"
   },
   "source": [
    "# Code 4. PageRank"
   ]
  },
  {
   "cell_type": "markdown",
   "metadata": {
    "Collapsed": "false"
   },
   "source": [
    "본 실습에서는 PageRank 알고리즘에 대해서 배웁니다."
   ]
  },
  {
   "cell_type": "code",
   "execution_count": 2,
   "metadata": {
    "Collapsed": "false"
   },
   "outputs": [],
   "source": [
    "import os\n",
    "import sys\n",
    "\n",
    "import collections\n",
    "\n",
    "import numpy as np\n",
    "import matplotlib.pyplot as plt\n",
    "np.set_printoptions(threshold=sys.maxsize) # 배열 생략없이 전체 출력\n",
    "\n",
    "import networkx as nx"
   ]
  },
  {
   "cell_type": "code",
   "execution_count": 3,
   "metadata": {
    "Collapsed": "false"
   },
   "outputs": [],
   "source": [
    "# 실습에 필요한 데이터셋을 읽어서 저장합니다.\n",
    "\n",
    "# 문서의 제목 목록으로 각 줄이 '[문서 식별자][문서 번호]\\n' \n",
    "path_v2n = 'graph/others/vertex2name.txt'\n",
    "\n",
    "# 하이퍼링크 목록으로 '[나가는 문서 식별자][들어오는 문서 식별자]\\n'\n",
    "path_edges = 'graph/others/edges.txt'\n",
    "\n",
    "# keyword(문서의 제목 목록) : deep_learning.txt (딥러닝), lee.txt (이순신), bong.txt(봉준호)\n",
    "path_keyword = 'graph/lab/lab3/deep_learning.txt'"
   ]
  },
  {
   "cell_type": "code",
   "execution_count": 4,
   "metadata": {
    "Collapsed": "false"
   },
   "outputs": [],
   "source": [
    "G = nx.DiGraph() # 그래프 생성\n",
    "\n",
    "# 엣지 추가\n",
    "f = open(path_edges)\n",
    "for line in f:\n",
    "    v1, v2 = map(int, line.split())\n",
    "    G.add_edge(v1, v2)\n",
    "\n",
    "# 문서 사전\n",
    "n2v = {}\n",
    "v2n = {}\n",
    "f = open(path_v2n)\n",
    "for line in f:\n",
    "    v, n = line.split()\n",
    "    v = int(v)\n",
    "    n = n.rstrip()\n",
    "    n2v[n] = v\n",
    "    v2n[v] = n\n",
    "\n",
    "# \n",
    "node_key = []\n",
    "f = open(path_keyword)\n",
    "for line in f:\n",
    "    v = line.rstrip()\n",
    "    v = int(v)\n",
    "    node_key.append(v)"
   ]
  },
  {
   "cell_type": "code",
   "execution_count": 11,
   "metadata": {
    "Collapsed": "false"
   },
   "outputs": [
    {
     "data": {
      "text/plain": [
       "(1371412, 6852992)"
      ]
     },
     "execution_count": 11,
     "metadata": {},
     "output_type": "execute_result"
    }
   ],
   "source": [
    "# Graph의 노드와 엣지 개수\n",
    "len(G.nodes()), len(G.edges())"
   ]
  },
  {
   "cell_type": "code",
   "execution_count": 6,
   "metadata": {
    "Collapsed": "false"
   },
   "outputs": [],
   "source": [
    "# 키워드를 포함한 문서들로 이루어진 부분 그래프(subgraph) H를 추출합니다.\n",
    "H = G.subgraph(node_key)"
   ]
  },
  {
   "cell_type": "code",
   "execution_count": 7,
   "metadata": {
    "Collapsed": "false"
   },
   "outputs": [
    {
     "name": "stdout",
     "output_type": "stream",
     "text": [
      "###### PageRank Algorithm ######\n",
      "딥러닝\n",
      "OpenCV\n",
      "이스트소프트\n",
      "인공지능인문학\n",
      "미분기하학\n",
      "PyTorch\n",
      "라온피플\n",
      "자동긴급제동장치\n",
      "케플러-90i\n",
      "T2d\n"
     ]
    }
   ],
   "source": [
    "# subgraph H에 대해서 pagerank 알고리즘을 시행합니다.\n",
    "print(\"###### PageRank Algorithm ######\")\n",
    "pr = nx.pagerank(H, alpha = 0.9)\n",
    "res = [key for (key, value) in sorted(pr.items(), key=lambda x:x[1], reverse=True)]\n",
    "for item in res[:10]:\n",
    "    print(v2n[item])"
   ]
  }
 ],
 "metadata": {
  "kernelspec": {
   "display_name": "Python 3",
   "language": "python",
   "name": "python3"
  },
  "language_info": {
   "codemirror_mode": {
    "name": "ipython",
    "version": 3
   },
   "file_extension": ".py",
   "mimetype": "text/x-python",
   "name": "python",
   "nbconvert_exporter": "python",
   "pygments_lexer": "ipython3",
   "version": "3.7.6"
  }
 },
 "nbformat": 4,
 "nbformat_minor": 4
}
